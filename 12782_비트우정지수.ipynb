{
 "cells": [
  {
   "cell_type": "code",
   "execution_count": 2,
   "id": "93b34a25",
   "metadata": {},
   "outputs": [
    {
     "name": "stdout",
     "output_type": "stream",
     "text": [
      "3\n",
      "hello\n",
      "hello\n",
      "hello\n"
     ]
    }
   ],
   "source": [
    "T = int(input())\n",
    "cnt =0\n",
    "\n",
    "def count_one(n,m):\n",
    "    one_n = 0\n",
    "    one_m = 0\n",
    "    zero_n =0\n",
    "    zero_m = 0\n",
    "    for i in ragne(len(n)):\n",
    "        if n[i] =='1':\n",
    "            one_n +=1\n",
    "        if m[i] =='1':\n",
    "            one_m +=1\n",
    "    zero_n = len(n)- one_n\n",
    "    zero_m = len(m) - one_m\n",
    "    \n",
    "    return one_n, one_m, zero_n, zero_m\n",
    "\n",
    "while cnt < T:\n",
    "    n,m = int(input().split(\" \"))\n",
    "    res = 0\n",
    "    \n",
    "    one_n, one_m, zero_n, zero_m = count_one(n,m)\n",
    "    \n",
    "    if one_n == one_m :\n",
    "        for i in range(len(n)):\n",
    "            if n==m:\n",
    "                break\n",
    "            if n[i] != m[i]:\n",
    "                res +=1\n",
    "        res = res // 2\n",
    "        \n",
    "    elif one_n > one_m:\n",
    "        for i in range(len(n)):\n",
    "            if n==m:\n",
    "                break\n",
    "            if n[i] !=m[i]:\n",
    "                if n[i] ==1 :\n",
    "                    n[i] =0\n",
    "                    res +=1\n",
    "                \n",
    "                    \n",
    "        \n",
    "    \n",
    "    cnt += 1"
   ]
  },
  {
   "cell_type": "code",
   "execution_count": 11,
   "id": "d5bbd75c",
   "metadata": {},
   "outputs": [
    {
     "data": {
      "text/plain": [
       "3"
      ]
     },
     "execution_count": 11,
     "metadata": {},
     "output_type": "execute_result"
    }
   ],
   "source": [
    "10000111\n",
    "11100010\n",
    "\n",
    "4 -> 2\n",
    "\n",
    "10000111\n",
    "01111000\n",
    "\n",
    "8 -> 4\n",
    "\n",
    "100101\n",
    "110100\n",
    "\n",
    "2 -> 1"
   ]
  },
  {
   "cell_type": "code",
   "execution_count": null,
   "id": "e7ff4952",
   "metadata": {},
   "outputs": [],
   "source": []
  }
 ],
 "metadata": {
  "kernelspec": {
   "display_name": "Python 3 (ipykernel)",
   "language": "python",
   "name": "python3"
  },
  "language_info": {
   "codemirror_mode": {
    "name": "ipython",
    "version": 3
   },
   "file_extension": ".py",
   "mimetype": "text/x-python",
   "name": "python",
   "nbconvert_exporter": "python",
   "pygments_lexer": "ipython3",
   "version": "3.9.18"
  }
 },
 "nbformat": 4,
 "nbformat_minor": 5
}
