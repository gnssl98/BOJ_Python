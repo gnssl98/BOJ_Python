{
 "cells": [
  {
   "cell_type": "code",
   "execution_count": null,
   "id": "d020e752",
   "metadata": {},
   "outputs": [],
   "source": [
    "N = int(input())\n",
    "if N%2 ==0:\n",
    "    print(\"CY\")\n",
    "else : \n",
    "    print(\"SK\")\n"
   ]
  },
  {
   "cell_type": "code",
   "execution_count": null,
   "id": "9378360c",
   "metadata": {},
   "outputs": [],
   "source": [
    "N = int(input())\n",
    "\n",
    "arr = [-1]*10001\n",
    "\n",
    "arr[1] = 1\n",
    "arr[2] = 0\n",
    "arr[3] = 1\n",
    "\n",
    "for i in range(4,n+1):\n",
    "    if arr[i-1] == 1 or arr[i-3] ==1:\n",
    "        arr[i] = 0\n",
    "    else:\n",
    "        arr[i] = 1\n",
    "        \n",
    "if arr[N] == 1:\n",
    "    print('SK')\n",
    "else:\n",
    "    print('CY')"
   ]
  },
  {
   "cell_type": "code",
   "execution_count": null,
   "id": "02da8629",
   "metadata": {},
   "outputs": [],
   "source": []
  }
 ],
 "metadata": {
  "kernelspec": {
   "display_name": "Python 3 (ipykernel)",
   "language": "python",
   "name": "python3"
  },
  "language_info": {
   "codemirror_mode": {
    "name": "ipython",
    "version": 3
   },
   "file_extension": ".py",
   "mimetype": "text/x-python",
   "name": "python",
   "nbconvert_exporter": "python",
   "pygments_lexer": "ipython3",
   "version": "3.11.5"
  }
 },
 "nbformat": 4,
 "nbformat_minor": 5
}
