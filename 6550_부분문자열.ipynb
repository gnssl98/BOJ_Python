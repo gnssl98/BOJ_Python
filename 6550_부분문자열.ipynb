{
 "cells": [
  {
   "cell_type": "code",
   "execution_count": null,
   "id": "27382467",
   "metadata": {},
   "outputs": [],
   "source": [
    "try:\n",
    "    while True:\n",
    "        s_str, t_str = input().split()\n",
    "        s_index = 0\n",
    "        t_index = 0\n",
    "        \n",
    "        while s_index < len(s_str) and t_index < len(t_str):\n",
    "            if t_str[t_index] == s_str[s_index]:\n",
    "                s_index += 1\n",
    "            t_index += 1\n",
    "        \n",
    "        if s_index == len(s_str):\n",
    "            print(\"Yes\")\n",
    "        else:\n",
    "            print(\"No\")\n",
    "except EOFError:\n",
    "    pass\n"
   ]
  },
  {
   "cell_type": "code",
   "execution_count": 10,
   "id": "c791ee88",
   "metadata": {},
   "outputs": [
    {
     "name": "stdout",
     "output_type": "stream",
     "text": [
      "VERDI vivaVittorioEmanueleReDiItalia\n",
      "1\n",
      "2\n",
      "3\n",
      "4\n",
      "5\n"
     ]
    }
   ],
   "source": [
    "while True:\n",
    "    try:\n",
    "        s_str, t_str = input().split()\n",
    "        i=0\n",
    "        cnt = 0\n",
    "        while i<len(s_str):\n",
    "            for j in range(len(t_str)):\n",
    "                if t_str[j] ==s_str[i]:\n",
    "                    cnt =cnt+1\n",
    "                    i=i+1\n",
    "                    print(cnt)\n",
    "            \n",
    "        if cnt == len(s_str) : \n",
    "            print(\"Yes\")\n",
    "        else :\n",
    "            print(\"No\")\n",
    "        \n",
    "        \n",
    "    except:\n",
    "        break"
   ]
  },
  {
   "cell_type": "code",
   "execution_count": null,
   "id": "30dde06b",
   "metadata": {},
   "outputs": [],
   "source": []
  }
 ],
 "metadata": {
  "kernelspec": {
   "display_name": "Python 3 (ipykernel)",
   "language": "python",
   "name": "python3"
  },
  "language_info": {
   "codemirror_mode": {
    "name": "ipython",
    "version": 3
   },
   "file_extension": ".py",
   "mimetype": "text/x-python",
   "name": "python",
   "nbconvert_exporter": "python",
   "pygments_lexer": "ipython3",
   "version": "3.9.18"
  }
 },
 "nbformat": 4,
 "nbformat_minor": 5
}
