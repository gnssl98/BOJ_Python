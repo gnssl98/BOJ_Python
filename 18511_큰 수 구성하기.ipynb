{
 "cells": [
  {
   "cell_type": "code",
   "execution_count": 58,
   "id": "5661c752",
   "metadata": {},
   "outputs": [
    {
     "name": "stdout",
     "output_type": "stream",
     "text": [
      "555 3\n",
      "1 5 3\n",
      "5355\n"
     ]
    }
   ],
   "source": [
    "n, k = map(int, input().split())\n",
    "\n",
    "arr = list(map(int, input().split()))\n",
    "\n",
    "arr.sort(reverse=True)\n",
    "str_n = str(n)\n",
    "res = \"\"\n",
    "k=0\n",
    "check = True\n",
    "\n",
    "for i in range(len(str_n)):\n",
    "    for j in range(len(arr)):\n",
    "        if str_n[i] != arr[j]:\n",
    "            check = False\n",
    "            break\n",
    "    if check ==False:\n",
    "        break\n",
    "\n",
    "if check == False:\n",
    "    for j in range(len(str_n)):\n",
    "        for i in range(len(arr)):\n",
    "            if arr[i] < int(str_n[j]):\n",
    "                res = res+str(arr[i])\n",
    "                k=i\n",
    "                break\n",
    "            elif arr[i]==int(str_n[j]):\n",
    "                res = res+str(arr[i])\n",
    "            \n",
    "            \n",
    "        if k !=0:\n",
    "            break\n",
    "            \n",
    "                \n",
    "            \n",
    "    for _ in range(len(str_n)-k):\n",
    "        res = res + str(arr[0])           \n",
    "else:\n",
    "    res = str_n\n",
    "            \n",
    "print(res)"
   ]
  },
  {
   "cell_type": "code",
   "execution_count": 22,
   "id": "d48fef30",
   "metadata": {},
   "outputs": [
    {
     "name": "stdout",
     "output_type": "stream",
     "text": [
      "[3, 2, 1]\n"
     ]
    }
   ],
   "source": [
    "if k==1:            \n",
    "    for _ in range(len(str_n)-1):\n",
    "        res = res + str(arr[0])"
   ]
  },
  {
   "cell_type": "code",
   "execution_count": null,
   "id": "fce47d80",
   "metadata": {},
   "outputs": [],
   "source": [
    "\n",
    "for i in range(len(str_n)):\n",
    "    for j in range(len(arr)):\n",
    "        if arr[j]>=int(str_n[i]):\n",
    "            res=res+str(arr[i])\n",
    "            print(res)\n",
    "            break"
   ]
  }
 ],
 "metadata": {
  "kernelspec": {
   "display_name": "Python 3 (ipykernel)",
   "language": "python",
   "name": "python3"
  },
  "language_info": {
   "codemirror_mode": {
    "name": "ipython",
    "version": 3
   },
   "file_extension": ".py",
   "mimetype": "text/x-python",
   "name": "python",
   "nbconvert_exporter": "python",
   "pygments_lexer": "ipython3",
   "version": "3.9.18"
  }
 },
 "nbformat": 4,
 "nbformat_minor": 5
}
