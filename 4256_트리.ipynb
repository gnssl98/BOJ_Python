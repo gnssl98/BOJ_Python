{
 "cells": [
  {
   "cell_type": "code",
   "execution_count": 21,
   "id": "85a89649",
   "metadata": {},
   "outputs": [
    {
     "name": "stdout",
     "output_type": "stream",
     "text": [
      "1\n",
      "4\n",
      "3 2 1 4\n",
      "2 3 4 1\n",
      "1\n"
     ]
    }
   ],
   "source": [
    "T = int(input())\n",
    "cnt = 0\n",
    "\n",
    "while cnt<T:\n",
    "    n = int(input())\n",
    "    preOrder =list(map(int, input().split()))\n",
    "    inOrder = list(map(int, input().split()))\n",
    "    tree_cnt = len(preOrder)\n",
    "    mid_num = preOrder[0]\n",
    "    mid_inOrder = 0\n",
    "    for i in range(tree_cnt):\n",
    "        if inOrder[i]==mid_num:\n",
    "            mid_inOrder = i\n",
    "    print(mid_inOrder)\n",
    "    \n",
    "    \n",
    "    \n",
    "    \n",
    "    cnt = cnt + 1"
   ]
  },
  {
   "cell_type": "markdown",
   "id": "bba68d48",
   "metadata": {},
   "source": [
    "    3\n",
    "2        1      \n",
    "            4\n",
    "            \n",
    "중위 5 6 8 4 /3 /1 2 7\n",
    "전위 3/ 6 /5/ 4 8 /7 1 2\n",
    " \n",
    " 5 8 4 6 /2 1 7/ 3\n",
    " \n",
    "1. preorder의 첫번째 수는 root 노드(중앙값)\n",
    "2. 트리를 나눈다. 왼쪽 오른쪽으로\n",
    "3. preorder의 첫번째 수가 결국 중앙이므로 이 기준으로 나눈다.\n"
   ]
  }
 ],
 "metadata": {
  "kernelspec": {
   "display_name": "Python 3 (ipykernel)",
   "language": "python",
   "name": "python3"
  },
  "language_info": {
   "codemirror_mode": {
    "name": "ipython",
    "version": 3
   },
   "file_extension": ".py",
   "mimetype": "text/x-python",
   "name": "python",
   "nbconvert_exporter": "python",
   "pygments_lexer": "ipython3",
   "version": "3.9.18"
  }
 },
 "nbformat": 4,
 "nbformat_minor": 5
}
