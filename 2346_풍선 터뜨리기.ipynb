{
 "cells": [
  {
   "cell_type": "code",
   "execution_count": 21,
   "id": "208ad6b7",
   "metadata": {},
   "outputs": [
    {
     "name": "stdout",
     "output_type": "stream",
     "text": [
      "5\n",
      "3 2 1 -3 -1\n",
      "1 4 5 3 2\n"
     ]
    }
   ],
   "source": [
    "from collections import deque\n",
    "\n",
    "N = int(input())\n",
    "ballon = deque(enumerate(map(int, input().split())))\n",
    "res =[]\n",
    "\n",
    "while ballon:\n",
    "    idx, boom = ballon.popleft()\n",
    "    res.append(idx +1)\n",
    "    \n",
    "    if boom>0:\n",
    "        ballon.rotate(-(boom - 1))\n",
    "    elif boom <0:\n",
    "        ballon.rotate(-boom)\n",
    "        \n",
    "print(' '.join(map(str,res)))"
   ]
  }
 ],
 "metadata": {
  "kernelspec": {
   "display_name": "Python 3 (ipykernel)",
   "language": "python",
   "name": "python3"
  },
  "language_info": {
   "codemirror_mode": {
    "name": "ipython",
    "version": 3
   },
   "file_extension": ".py",
   "mimetype": "text/x-python",
   "name": "python",
   "nbconvert_exporter": "python",
   "pygments_lexer": "ipython3",
   "version": "3.11.5"
  }
 },
 "nbformat": 4,
 "nbformat_minor": 5
}
