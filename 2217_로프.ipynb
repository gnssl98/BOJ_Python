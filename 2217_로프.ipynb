{
 "cells": [
  {
   "cell_type": "code",
   "execution_count": 34,
   "id": "4b5be65c",
   "metadata": {},
   "outputs": [
    {
     "name": "stdout",
     "output_type": "stream",
     "text": [
      "5\n",
      "1\n",
      "2\n",
      "3\n",
      "4\n",
      "50\n",
      "i:1\n",
      "k : 4\n",
      "i:2\n",
      "k : 3\n",
      "i:3\n",
      "k : 2\n",
      "i:4\n",
      "k : 1\n",
      "50\n"
     ]
    }
   ],
   "source": [
    "n = int(input())\n",
    "rope = []\n",
    "for _ in range(n):\n",
    "    rope.append(int(input()))\n",
    "\n",
    "rope.sort()\n",
    "res = rope[0] *n\n",
    "\n",
    "k = n\n",
    "for i in range(1,n):\n",
    "    k = k-1\n",
    "    if rope[i] != rope[i-1]:\n",
    "        if res <= rope[i] * k:\n",
    "            res = rope[i] *k\n",
    "    \n",
    "print(res)"
   ]
  },
  {
   "cell_type": "code",
   "execution_count": null,
   "id": "96b2e217",
   "metadata": {},
   "outputs": [],
   "source": [
    "20 20 300 400 500\n",
    "\n"
   ]
  },
  {
   "cell_type": "code",
   "execution_count": null,
   "id": "01b1fe79",
   "metadata": {},
   "outputs": [],
   "source": []
  }
 ],
 "metadata": {
  "kernelspec": {
   "display_name": "Python 3 (ipykernel)",
   "language": "python",
   "name": "python3"
  },
  "language_info": {
   "codemirror_mode": {
    "name": "ipython",
    "version": 3
   },
   "file_extension": ".py",
   "mimetype": "text/x-python",
   "name": "python",
   "nbconvert_exporter": "python",
   "pygments_lexer": "ipython3",
   "version": "3.11.5"
  }
 },
 "nbformat": 4,
 "nbformat_minor": 5
}
