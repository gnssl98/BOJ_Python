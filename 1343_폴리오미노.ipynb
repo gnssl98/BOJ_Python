{
 "cells": [
  {
   "cell_type": "code",
   "execution_count": 12,
   "id": "54bfa764",
   "metadata": {},
   "outputs": [
    {
     "name": "stdout",
     "output_type": "stream",
     "text": [
      "XX.XXXXXX\n",
      "BB.AAAABB\n"
     ]
    }
   ],
   "source": [
    "arr = input()\n",
    "i=0\n",
    "result =''\n",
    "\n",
    "while i <len(arr):\n",
    "    if arr[i:i+4] =='XXXX':\n",
    "        result = result+'AAAA'\n",
    "        i = i+4\n",
    "    elif arr[i : i+2] =='XX':\n",
    "        result = result +'BB'\n",
    "        i = i+2\n",
    "    elif arr[i] == 'X':\n",
    "        result = -1\n",
    "        break\n",
    "    else : \n",
    "        result = result + arr[i]\n",
    "        i = i+1\n",
    "        \n",
    "print(result)\n",
    "            "
   ]
  },
  {
   "cell_type": "code",
   "execution_count": null,
   "id": "32a19e95",
   "metadata": {},
   "outputs": [],
   "source": [
    "2, 4, 6, 8, 10, "
   ]
  }
 ],
 "metadata": {
  "kernelspec": {
   "display_name": "Python 3 (ipykernel)",
   "language": "python",
   "name": "python3"
  },
  "language_info": {
   "codemirror_mode": {
    "name": "ipython",
    "version": 3
   },
   "file_extension": ".py",
   "mimetype": "text/x-python",
   "name": "python",
   "nbconvert_exporter": "python",
   "pygments_lexer": "ipython3",
   "version": "3.9.18"
  }
 },
 "nbformat": 4,
 "nbformat_minor": 5
}
