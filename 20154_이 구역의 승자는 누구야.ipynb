{
 "cells": [
  {
   "cell_type": "code",
   "execution_count": 9,
   "id": "bb89c3b2",
   "metadata": {},
   "outputs": [
    {
     "name": "stdout",
     "output_type": "stream",
     "text": [
      "AECF\n",
      "You're the winner?\n"
     ]
    }
   ],
   "source": [
    "str = input()\n",
    "\n",
    "keys = [\"A\", \"B\", \"C\", \"D\", \"E\", \"F\", \"G\", \"H\", \"I\", \"J\", \"K\", \"L\", \"M\", \"N\", \"O\", \"P\", \"Q\", \"R\", \"S\", \"T\", \"U\", \"V\", \"W\", \"X\", \"Y\", \"Z\"]\n",
    "values = [3, 2, 1, 2, 3, 3, 3, 3, 1, 1, 3, 1, 3, 3, 1, 2, 2, 2, 1, 2, 1, 1, 2, 2, 2, 1]\n",
    "\n",
    "alpha_dict = dict(zip(keys, values))\n",
    "\n",
    "len_str = len(str)\n",
    "\n",
    "cnt = 0 \n",
    "\n",
    "for i in range(len_str):\n",
    "    cnt = cnt + alpha_dict[str[i]]\n",
    "\n",
    "if cnt >10 : \n",
    "    cnt = cnt % 10\n",
    "\n",
    "if cnt %2 !=0:\n",
    "    print(\"I'm a winner!\")\n",
    "else : \n",
    "    print(\"You're the winner?\")  \n",
    "\n",
    "\n"
   ]
  },
  {
   "cell_type": "code",
   "execution_count": null,
   "id": "1076c18b",
   "metadata": {},
   "outputs": [],
   "source": []
  }
 ],
 "metadata": {
  "kernelspec": {
   "display_name": "Python 3 (ipykernel)",
   "language": "python",
   "name": "python3"
  },
  "language_info": {
   "codemirror_mode": {
    "name": "ipython",
    "version": 3
   },
   "file_extension": ".py",
   "mimetype": "text/x-python",
   "name": "python",
   "nbconvert_exporter": "python",
   "pygments_lexer": "ipython3",
   "version": "3.9.18"
  }
 },
 "nbformat": 4,
 "nbformat_minor": 5
}
