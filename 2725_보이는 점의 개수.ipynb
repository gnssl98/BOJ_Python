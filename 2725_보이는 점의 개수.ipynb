{
 "cells": [
  {
   "cell_type": "code",
   "execution_count": 10,
   "id": "feb8c34b",
   "metadata": {},
   "outputs": [
    {
     "name": "stdout",
     "output_type": "stream",
     "text": [
      "3\n",
      "5\n",
      "4\n",
      "231\n",
      "21\n",
      "13\n",
      "32549\n"
     ]
    }
   ],
   "source": [
    "import math\n",
    "C = int(input())\n",
    "\n",
    "dp = [0] *1001\n",
    "dp[1]=3\n",
    "dp[2] =5\n",
    "\n",
    "for i in range(3,1001):\n",
    "    cnt = 0\n",
    "    for j in range(2,i):\n",
    "        if math.gcd(i,j) == 1:\n",
    "            cnt +=1\n",
    "            \n",
    "    cnt = cnt *2 +2\n",
    "    dp[i] = dp[i-1] + cnt\n",
    "\n",
    "n_arr =[]\n",
    "for _ in range(C):\n",
    "    n_arr.append(int(input())) \n",
    "    \n",
    "for k in range(C):\n",
    "    print(dp[n_arr[k]])"
   ]
  }
 ],
 "metadata": {
  "kernelspec": {
   "display_name": "Python 3 (ipykernel)",
   "language": "python",
   "name": "python3"
  },
  "language_info": {
   "codemirror_mode": {
    "name": "ipython",
    "version": 3
   },
   "file_extension": ".py",
   "mimetype": "text/x-python",
   "name": "python",
   "nbconvert_exporter": "python",
   "pygments_lexer": "ipython3",
   "version": "3.11.5"
  }
 },
 "nbformat": 4,
 "nbformat_minor": 5
}
