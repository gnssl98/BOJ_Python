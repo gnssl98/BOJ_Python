{
 "cells": [
  {
   "cell_type": "code",
   "execution_count": 12,
   "id": "9cfd71e6",
   "metadata": {},
   "outputs": [
    {
     "name": "stdout",
     "output_type": "stream",
     "text": [
      "AABCDD\n",
      "afzz\n",
      "09121\n",
      "a8EWg6\n",
      "P5h3kx\n",
      "Aa0aPAf985Bz1EhCz2W3D1gkD6x\n"
     ]
    }
   ],
   "source": [
    "cnt = 0\n",
    "str_arr =[]\n",
    "res =''\n",
    "check = 0\n",
    "while cnt < 5:\n",
    "    str1 = input()\n",
    "    str_arr.append(str1)\n",
    "    if check < len(str1):\n",
    "        check = len(str1)\n",
    "    cnt = cnt +1\n",
    "    \n",
    "\n",
    "for j in range(check):\n",
    "    for i in range(5):\n",
    "        if j < len(str_arr[i]):\n",
    "            res = res + str_arr[i][j]\n",
    "print(res)"
   ]
  },
  {
   "cell_type": "code",
   "execution_count": null,
   "id": "213bb0e3",
   "metadata": {},
   "outputs": [],
   "source": []
  }
 ],
 "metadata": {
  "kernelspec": {
   "display_name": "Python 3 (ipykernel)",
   "language": "python",
   "name": "python3"
  },
  "language_info": {
   "codemirror_mode": {
    "name": "ipython",
    "version": 3
   },
   "file_extension": ".py",
   "mimetype": "text/x-python",
   "name": "python",
   "nbconvert_exporter": "python",
   "pygments_lexer": "ipython3",
   "version": "3.9.18"
  }
 },
 "nbformat": 4,
 "nbformat_minor": 5
}
