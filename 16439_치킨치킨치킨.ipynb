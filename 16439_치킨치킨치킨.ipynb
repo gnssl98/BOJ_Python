{
 "cells": [
  {
   "cell_type": "code",
   "execution_count": 9,
   "id": "ca90c537",
   "metadata": {},
   "outputs": [
    {
     "name": "stdout",
     "output_type": "stream",
     "text": [
      "3 5 \n",
      "1 2 3 4 5\n",
      "5 4 3 2 1\n",
      "1 2 3 2 1\n",
      "13\n"
     ]
    }
   ],
   "source": [
    "import sys\n",
    "from itertools import combinations\n",
    "input = sys.stdin.readline\n",
    "N, M = map(int, input().split())\n",
    "\n",
    "arr= [list(map(int, input().split())) for _ in range(n)]\n",
    "    \n",
    "res = 0\n",
    "for a, b, c in combinations(range(M), 3):\n",
    "    tmp = 0\n",
    "    for i in range(N):\n",
    "        tmp += max(arr[i][a], arr[i][b], arr[i][c])\n",
    "    res = max(res, tmp)\n",
    "print(res)\n",
    "    \n"
   ]
  }
 ],
 "metadata": {
  "kernelspec": {
   "display_name": "Python 3 (ipykernel)",
   "language": "python",
   "name": "python3"
  },
  "language_info": {
   "codemirror_mode": {
    "name": "ipython",
    "version": 3
   },
   "file_extension": ".py",
   "mimetype": "text/x-python",
   "name": "python",
   "nbconvert_exporter": "python",
   "pygments_lexer": "ipython3",
   "version": "3.9.18"
  }
 },
 "nbformat": 4,
 "nbformat_minor": 5
}
