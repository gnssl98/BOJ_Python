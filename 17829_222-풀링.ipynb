{
 "cells": [
  {
   "cell_type": "code",
   "execution_count": 45,
   "id": "d57ba0d0",
   "metadata": {},
   "outputs": [
    {
     "name": "stdout",
     "output_type": "stream",
     "text": [
      "8\n",
      "-1 2 14 7 4 -5 8 9\n",
      "10 6 23 2 -1 -1 7 11\n",
      "9 3 5 -2 4 4 6 6\n",
      "7 15 0 8 21 20 6 6\n",
      "19 8 12 -8 4 5 2 9\n",
      "1 2 3 4 5 6 7 8\n",
      "9 10 11 12 13 14 15 16\n",
      "17 18 19 20 21 22 23 24\n",
      "[[-1, 2, 14, 7, 4, -5, 8, 9], [10, 6, 23, 2, -1, -1, 7, 11], [9, 3, 5, -2, 4, 4, 6, 6], [7, 15, 0, 8, 21, 20, 6, 6], [19, 8, 12, -8, 4, 5, 2, 9], [1, 2, 3, 4, 5, 6, 7, 8], [9, 10, 11, 12, 13, 14, 15, 16], [17, 18, 19, 20, 21, 22, 23, 24]]\n"
     ]
    }
   ],
   "source": [
    "n = int(input())\n",
    "matrix = []\n",
    "for i in range(n):\n",
    "    tmp = list(map(int, input().split()))\n",
    "    matrix.append(tmp)\n",
    "print(matrix)"
   ]
  },
  {
   "cell_type": "markdown",
   "id": "551157ce",
   "metadata": {},
   "source": [
    "1. 배열을 reshape\n",
    "2. matrix 짜르지 말고 채취"
   ]
  },
  {
   "cell_type": "code",
   "execution_count": 75,
   "id": "118ee73e",
   "metadata": {},
   "outputs": [
    {
     "name": "stdout",
     "output_type": "stream",
     "text": [
      "[6]\n",
      "[5]\n",
      "[5]\n",
      "[23]\n"
     ]
    },
    {
     "ename": "IndexError",
     "evalue": "list index out of range",
     "output_type": "error",
     "traceback": [
      "\u001b[1;31m---------------------------------------------------------------------------\u001b[0m",
      "\u001b[1;31mIndexError\u001b[0m                                Traceback (most recent call last)",
      "Cell \u001b[1;32mIn[75], line 31\u001b[0m\n\u001b[0;32m     28\u001b[0m     divide(matrix, row\u001b[38;5;241m+\u001b[39m\u001b[38;5;241m2\u001b[39m,col, n,row_arr \u001b[38;5;241m=\u001b[39m[])\n\u001b[0;32m     30\u001b[0m     \u001b[38;5;28;01mreturn\u001b[39;00m result\n\u001b[1;32m---> 31\u001b[0m res \u001b[38;5;241m=\u001b[39m \u001b[43mdivide\u001b[49m\u001b[43m(\u001b[49m\u001b[43mmatrix\u001b[49m\u001b[43m,\u001b[49m\u001b[43m \u001b[49m\u001b[38;5;241;43m0\u001b[39;49m\u001b[43m,\u001b[49m\u001b[38;5;241;43m0\u001b[39;49m\u001b[43m,\u001b[49m\u001b[43m \u001b[49m\u001b[43mn\u001b[49m\u001b[43m,\u001b[49m\u001b[43mrow_arr\u001b[49m\u001b[43m \u001b[49m\u001b[38;5;241;43m=\u001b[39;49m\u001b[43m[\u001b[49m\u001b[43m]\u001b[49m\u001b[43m)\u001b[49m\n\u001b[0;32m     32\u001b[0m \u001b[38;5;28mprint\u001b[39m(res)\n",
      "Cell \u001b[1;32mIn[75], line 28\u001b[0m, in \u001b[0;36mdivide\u001b[1;34m(matrix, row, col, n, row_arr)\u001b[0m\n\u001b[0;32m     24\u001b[0m row_arr\u001b[38;5;241m.\u001b[39mappend(tmp)\n\u001b[0;32m     25\u001b[0m \u001b[38;5;28mprint\u001b[39m(row_arr)\n\u001b[1;32m---> 28\u001b[0m \u001b[43mdivide\u001b[49m\u001b[43m(\u001b[49m\u001b[43mmatrix\u001b[49m\u001b[43m,\u001b[49m\u001b[43m \u001b[49m\u001b[43mrow\u001b[49m\u001b[38;5;241;43m+\u001b[39;49m\u001b[38;5;241;43m2\u001b[39;49m\u001b[43m,\u001b[49m\u001b[43mcol\u001b[49m\u001b[43m,\u001b[49m\u001b[43m \u001b[49m\u001b[43mn\u001b[49m\u001b[43m,\u001b[49m\u001b[43mrow_arr\u001b[49m\u001b[43m \u001b[49m\u001b[38;5;241;43m=\u001b[39;49m\u001b[43m[\u001b[49m\u001b[43m]\u001b[49m\u001b[43m)\u001b[49m\n\u001b[0;32m     30\u001b[0m \u001b[38;5;28;01mreturn\u001b[39;00m result\n",
      "Cell \u001b[1;32mIn[75], line 28\u001b[0m, in \u001b[0;36mdivide\u001b[1;34m(matrix, row, col, n, row_arr)\u001b[0m\n\u001b[0;32m     24\u001b[0m row_arr\u001b[38;5;241m.\u001b[39mappend(tmp)\n\u001b[0;32m     25\u001b[0m \u001b[38;5;28mprint\u001b[39m(row_arr)\n\u001b[1;32m---> 28\u001b[0m \u001b[43mdivide\u001b[49m\u001b[43m(\u001b[49m\u001b[43mmatrix\u001b[49m\u001b[43m,\u001b[49m\u001b[43m \u001b[49m\u001b[43mrow\u001b[49m\u001b[38;5;241;43m+\u001b[39;49m\u001b[38;5;241;43m2\u001b[39;49m\u001b[43m,\u001b[49m\u001b[43mcol\u001b[49m\u001b[43m,\u001b[49m\u001b[43m \u001b[49m\u001b[43mn\u001b[49m\u001b[43m,\u001b[49m\u001b[43mrow_arr\u001b[49m\u001b[43m \u001b[49m\u001b[38;5;241;43m=\u001b[39;49m\u001b[43m[\u001b[49m\u001b[43m]\u001b[49m\u001b[43m)\u001b[49m\n\u001b[0;32m     30\u001b[0m \u001b[38;5;28;01mreturn\u001b[39;00m result\n",
      "    \u001b[1;31m[... skipping similar frames: divide at line 28 (1 times)]\u001b[0m\n",
      "Cell \u001b[1;32mIn[75], line 28\u001b[0m, in \u001b[0;36mdivide\u001b[1;34m(matrix, row, col, n, row_arr)\u001b[0m\n\u001b[0;32m     24\u001b[0m row_arr\u001b[38;5;241m.\u001b[39mappend(tmp)\n\u001b[0;32m     25\u001b[0m \u001b[38;5;28mprint\u001b[39m(row_arr)\n\u001b[1;32m---> 28\u001b[0m \u001b[43mdivide\u001b[49m\u001b[43m(\u001b[49m\u001b[43mmatrix\u001b[49m\u001b[43m,\u001b[49m\u001b[43m \u001b[49m\u001b[43mrow\u001b[49m\u001b[38;5;241;43m+\u001b[39;49m\u001b[38;5;241;43m2\u001b[39;49m\u001b[43m,\u001b[49m\u001b[43mcol\u001b[49m\u001b[43m,\u001b[49m\u001b[43m \u001b[49m\u001b[43mn\u001b[49m\u001b[43m,\u001b[49m\u001b[43mrow_arr\u001b[49m\u001b[43m \u001b[49m\u001b[38;5;241;43m=\u001b[39;49m\u001b[43m[\u001b[49m\u001b[43m]\u001b[49m\u001b[43m)\u001b[49m\n\u001b[0;32m     30\u001b[0m \u001b[38;5;28;01mreturn\u001b[39;00m result\n",
      "Cell \u001b[1;32mIn[75], line 22\u001b[0m, in \u001b[0;36mdivide\u001b[1;34m(matrix, row, col, n, row_arr)\u001b[0m\n\u001b[0;32m     20\u001b[0m \u001b[38;5;28;01mfor\u001b[39;00m i \u001b[38;5;129;01min\u001b[39;00m \u001b[38;5;28mrange\u001b[39m(\u001b[38;5;241m2\u001b[39m):\n\u001b[0;32m     21\u001b[0m     \u001b[38;5;28;01mfor\u001b[39;00m j \u001b[38;5;129;01min\u001b[39;00m \u001b[38;5;28mrange\u001b[39m(\u001b[38;5;241m2\u001b[39m):\n\u001b[1;32m---> 22\u001b[0m         tmp_arr\u001b[38;5;241m.\u001b[39mappend(\u001b[43mmatrix\u001b[49m\u001b[43m[\u001b[49m\u001b[43mrow\u001b[49m\u001b[43m \u001b[49m\u001b[38;5;241;43m+\u001b[39;49m\u001b[43m \u001b[49m\u001b[43mi\u001b[49m\u001b[43m]\u001b[49m[col \u001b[38;5;241m+\u001b[39m j])\n\u001b[0;32m     23\u001b[0m tmp \u001b[38;5;241m=\u001b[39m cal(tmp_arr)\n\u001b[0;32m     24\u001b[0m row_arr\u001b[38;5;241m.\u001b[39mappend(tmp)\n",
      "\u001b[1;31mIndexError\u001b[0m: list index out of range"
     ]
    }
   ],
   "source": [
    "matrix = [[-1, 2, 14, 7, 4, -5, 8, 9], [10, 6, 23, 2, -1, -1, 7, 11], [9, 3, 5, -2, 4, 4, 6, 6], [7, 15, 0, 8, 21, 20, 6, 6], [19, 8, 12, -8, 4, 5, 2, 9], [1, 2, 3, 4, 5, 6, 7, 8], [9, 10, 11, 12, 13, 14, 15, 16], [17, 18, 19, 20, 21, 22, 23, 24]]\n",
    "\n",
    "result =[]\n",
    "\n",
    "def cal(arr):\n",
    "    arr.sort()\n",
    "    return arr[2]\n",
    "\n",
    "def divide(matrix, row, col, n,row_arr =[]): \n",
    "    if row ==0:\n",
    "        row_arr = []\n",
    "    tmp_arr=[]\n",
    "    \n",
    "    if row >= n-2 :\n",
    "        col = col+2\n",
    "        result.append(tmp_arr)\n",
    "        if row+col+2 == n:\n",
    "            return\n",
    "        \n",
    "    tmp_arr = []\n",
    "    for i in range(2):\n",
    "        for j in range(2):\n",
    "            tmp_arr.append(matrix[row + i][col + j])\n",
    "    tmp = cal(tmp_arr)\n",
    "    row_arr.append(tmp)\n",
    "    print(row_arr)\n",
    "    \n",
    "    \n",
    "    divide(matrix, row+2,col, n,row_arr =[])\n",
    "    \n",
    "    return result\n",
    "res = divide(matrix, 0,0, n,row_arr =[])\n",
    "print(res)"
   ]
  },
  {
   "cell_type": "code",
   "execution_count": 71,
   "id": "f1bd0df7",
   "metadata": {},
   "outputs": [
    {
     "name": "stdout",
     "output_type": "stream",
     "text": [
      "[-5]\n",
      "[-5, 11]\n"
     ]
    },
    {
     "ename": "IndexError",
     "evalue": "list index out of range",
     "output_type": "error",
     "traceback": [
      "\u001b[1;31m---------------------------------------------------------------------------\u001b[0m",
      "\u001b[1;31mIndexError\u001b[0m                                Traceback (most recent call last)",
      "Cell \u001b[1;32mIn[71], line 37\u001b[0m\n\u001b[0;32m     35\u001b[0m n\u001b[38;5;241m=\u001b[39m\u001b[38;5;241m4\u001b[39m\n\u001b[0;32m     36\u001b[0m row_arr \u001b[38;5;241m=\u001b[39m[]\n\u001b[1;32m---> 37\u001b[0m res \u001b[38;5;241m=\u001b[39m \u001b[43mdivide\u001b[49m\u001b[43m(\u001b[49m\u001b[43mmatrix\u001b[49m\u001b[43m,\u001b[49m\u001b[43m \u001b[49m\u001b[38;5;241;43m0\u001b[39;49m\u001b[43m,\u001b[49m\u001b[38;5;241;43m0\u001b[39;49m\u001b[43m,\u001b[49m\u001b[43m \u001b[49m\u001b[43mn\u001b[49m\u001b[43m,\u001b[49m\u001b[43mrow_arr\u001b[49m\u001b[43m)\u001b[49m\n\u001b[0;32m     39\u001b[0m \u001b[38;5;28mprint\u001b[39m(res)\n",
      "Cell \u001b[1;32mIn[71], line 27\u001b[0m, in \u001b[0;36mdivide\u001b[1;34m(matrix, row, col, n, row_arr)\u001b[0m\n\u001b[0;32m     24\u001b[0m row_arr\u001b[38;5;241m.\u001b[39mappend(tmp)    \n\u001b[0;32m     25\u001b[0m \u001b[38;5;28mprint\u001b[39m(row_arr)\n\u001b[1;32m---> 27\u001b[0m \u001b[43mdivide\u001b[49m\u001b[43m(\u001b[49m\u001b[43mmatrix\u001b[49m\u001b[43m,\u001b[49m\u001b[43m \u001b[49m\u001b[43mrow\u001b[49m\u001b[38;5;241;43m+\u001b[39;49m\u001b[38;5;241;43m2\u001b[39;49m\u001b[43m,\u001b[49m\u001b[43mcol\u001b[49m\u001b[43m,\u001b[49m\u001b[43m \u001b[49m\u001b[43mn\u001b[49m\u001b[43m,\u001b[49m\u001b[43m \u001b[49m\u001b[43mrow_arr\u001b[49m\u001b[43m)\u001b[49m\n\u001b[0;32m     28\u001b[0m \u001b[38;5;28;01mif\u001b[39;00m row\u001b[38;5;241m+\u001b[39mcol\u001b[38;5;241m+\u001b[39m\u001b[38;5;241m2\u001b[39m \u001b[38;5;241m==\u001b[39m n:\n\u001b[0;32m     29\u001b[0m     \u001b[38;5;28;01mreturn\u001b[39;00m\n",
      "Cell \u001b[1;32mIn[71], line 27\u001b[0m, in \u001b[0;36mdivide\u001b[1;34m(matrix, row, col, n, row_arr)\u001b[0m\n\u001b[0;32m     24\u001b[0m row_arr\u001b[38;5;241m.\u001b[39mappend(tmp)    \n\u001b[0;32m     25\u001b[0m \u001b[38;5;28mprint\u001b[39m(row_arr)\n\u001b[1;32m---> 27\u001b[0m \u001b[43mdivide\u001b[49m\u001b[43m(\u001b[49m\u001b[43mmatrix\u001b[49m\u001b[43m,\u001b[49m\u001b[43m \u001b[49m\u001b[43mrow\u001b[49m\u001b[38;5;241;43m+\u001b[39;49m\u001b[38;5;241;43m2\u001b[39;49m\u001b[43m,\u001b[49m\u001b[43mcol\u001b[49m\u001b[43m,\u001b[49m\u001b[43m \u001b[49m\u001b[43mn\u001b[49m\u001b[43m,\u001b[49m\u001b[43m \u001b[49m\u001b[43mrow_arr\u001b[49m\u001b[43m)\u001b[49m\n\u001b[0;32m     28\u001b[0m \u001b[38;5;28;01mif\u001b[39;00m row\u001b[38;5;241m+\u001b[39mcol\u001b[38;5;241m+\u001b[39m\u001b[38;5;241m2\u001b[39m \u001b[38;5;241m==\u001b[39m n:\n\u001b[0;32m     29\u001b[0m     \u001b[38;5;28;01mreturn\u001b[39;00m\n",
      "Cell \u001b[1;32mIn[71], line 22\u001b[0m, in \u001b[0;36mdivide\u001b[1;34m(matrix, row, col, n, row_arr)\u001b[0m\n\u001b[0;32m     20\u001b[0m \u001b[38;5;28;01mfor\u001b[39;00m i \u001b[38;5;129;01min\u001b[39;00m \u001b[38;5;28mrange\u001b[39m(\u001b[38;5;241m2\u001b[39m):\n\u001b[0;32m     21\u001b[0m     \u001b[38;5;28;01mfor\u001b[39;00m j \u001b[38;5;129;01min\u001b[39;00m \u001b[38;5;28mrange\u001b[39m(\u001b[38;5;241m2\u001b[39m):\n\u001b[1;32m---> 22\u001b[0m         tmp_arr\u001b[38;5;241m.\u001b[39mappend(\u001b[43mmatrix\u001b[49m\u001b[43m[\u001b[49m\u001b[43mrow\u001b[49m\u001b[43m \u001b[49m\u001b[38;5;241;43m+\u001b[39;49m\u001b[43m \u001b[49m\u001b[43mi\u001b[49m\u001b[43m]\u001b[49m\u001b[43m[\u001b[49m\u001b[43mcol\u001b[49m\u001b[43m \u001b[49m\u001b[38;5;241;43m+\u001b[39;49m\u001b[43m \u001b[49m\u001b[43mj\u001b[49m\u001b[43m]\u001b[49m)\n\u001b[0;32m     23\u001b[0m tmp \u001b[38;5;241m=\u001b[39m cal(tmp_arr)\n\u001b[0;32m     24\u001b[0m row_arr\u001b[38;5;241m.\u001b[39mappend(tmp)    \n",
      "\u001b[1;31mIndexError\u001b[0m: list index out of range"
     ]
    }
   ],
   "source": [
    "matrix = [[-6, -8, 7, -4], [-5, -5, 14, 11], [11, 11, -1, -1], [4, 9, -2, -4]]\n",
    "\n",
    "import math\n",
    "result =[]\n",
    "\n",
    "def cal(arr):\n",
    "    arr.sort()\n",
    "    return arr[2]\n",
    "\n",
    "def divide(matrix, row, col, n, row_arr):    \n",
    "    tmp_arr = []\n",
    "    if row ==0:\n",
    "        row_arr = []\n",
    "        \n",
    "    if row>=n-2:\n",
    "        col=col+2\n",
    "        row = 0\n",
    "        result.append(tmp_arr)\n",
    "    \n",
    "    for i in range(2):\n",
    "        for j in range(2):\n",
    "            tmp_arr.append(matrix[row + i][col + j])\n",
    "    tmp = cal(tmp_arr)\n",
    "    row_arr.append(tmp)    \n",
    "    print(row_arr)\n",
    "    \n",
    "    divide(matrix, row+2,col, n, row_arr)\n",
    "    if row+col+2 == n:\n",
    "        return\n",
    "    \n",
    "    return result\n",
    "\n",
    "\n",
    "\n",
    "n=4\n",
    "row_arr =[]\n",
    "res = divide(matrix, 0,0, n,row_arr)\n",
    "\n",
    "print(res)"
   ]
  },
  {
   "cell_type": "code",
   "execution_count": 7,
   "id": "bdcc2ef0",
   "metadata": {},
   "outputs": [
    {
     "name": "stdout",
     "output_type": "stream",
     "text": [
      "[1, 2, 3, 5, 7]\n"
     ]
    }
   ],
   "source": [
    "tmp = [1,2,5,3,7]\n",
    "tmp.sort()\n",
    "print(tmp)"
   ]
  },
  {
   "cell_type": "code",
   "execution_count": 41,
   "id": "53af4096",
   "metadata": {},
   "outputs": [
    {
     "name": "stdout",
     "output_type": "stream",
     "text": [
      "[]\n"
     ]
    }
   ],
   "source": [
    "matrix = [[-6, -8, 7, -4], [-5, -5, 14, 11], [11, 11, -1, -1], [4, 9, -2, -4]]\n",
    "\n",
    "import math\n",
    "\n",
    "def cal(arr):\n",
    "    arr.sort()\n",
    "    return arr[2]\n",
    "\n",
    "def divide(matrix, row, col, n):    \n",
    "    if row >= n or col >= n:\n",
    "        return []\n",
    "    tmp_arr = []\n",
    "    for i in range(2):\n",
    "        for j in range(2):\n",
    "            tmp_arr.append(matrix[row + i][col + j])\n",
    "    median = cal(tmp_arr)\n",
    "    \n",
    "    result = [median]\n",
    "    \n",
    "    result.extend(divide(matrix, row + 2, col, n))\n",
    "    if row + col + 2 != n:\n",
    "        result.extend(divide(matrix, row, col + 2, n))\n",
    "    \n",
    "    return result\n",
    "\n",
    "def reshape_result(result, size):\n",
    "    return [result[i * size:(i + 1) * size] for i in range(size)]\n",
    "\n",
    "n = 4\n",
    "res = divide(matrix, 0, 0, n)\n",
    "res = reshape_result(res, n // 2)\n",
    "\n",
    "for i in range(int(math.log2(n)) - 1):\n",
    "    res = divide(res, 0, 0, len(res))\n",
    "    res = reshape_result(res, len(res) // 2)\n",
    "\n",
    "print(res)\n"
   ]
  },
  {
   "cell_type": "code",
   "execution_count": 140,
   "id": "c0af1d4d",
   "metadata": {},
   "outputs": [
    {
     "name": "stdout",
     "output_type": "stream",
     "text": [
      "tmp_arr : [-1, 2, 6, 10]\n",
      "row_arr : [6]\n",
      "tmp_arr : [2, 7, 14, 23]\n",
      "row_arr : [6, 14]\n",
      "tmp_arr : [-5, -1, -1, 4]\n",
      "row_arr : [6, 14, -1]\n",
      "tmp_arr : [7, 8, 9, 11]\n",
      "row_arr : [6, 14, -1, 9]\n",
      "result : [[6, 14, -1, 9]]\n",
      "tmp_arr : [3, 7, 9, 15]\n",
      "row_arr : [9]\n",
      "tmp_arr : [-2, 0, 5, 8]\n",
      "row_arr : [9, 5]\n",
      "tmp_arr : [4, 4, 20, 21]\n",
      "row_arr : [9, 5, 20]\n",
      "tmp_arr : [6, 6, 6, 6]\n",
      "row_arr : [9, 5, 20, 6]\n",
      "result : [[6, 14, -1, 9], [9, 5, 20, 6]]\n",
      "tmp_arr : [1, 2, 8, 19]\n",
      "row_arr : [8]\n",
      "tmp_arr : [-8, 3, 4, 12]\n",
      "row_arr : [8, 4]\n",
      "tmp_arr : [4, 5, 5, 6]\n",
      "row_arr : [8, 4, 5]\n",
      "tmp_arr : [2, 7, 8, 9]\n",
      "row_arr : [8, 4, 5, 8]\n",
      "result : [[6, 14, -1, 9], [9, 5, 20, 6], [8, 4, 5, 8]]\n",
      "tmp_arr : [9, 10, 17, 18]\n",
      "row_arr : [17]\n",
      "tmp_arr : [11, 12, 19, 20]\n",
      "row_arr : [17, 19]\n",
      "tmp_arr : [13, 14, 21, 22]\n",
      "row_arr : [17, 19, 21]\n",
      "tmp_arr : [15, 16, 23, 24]\n",
      "row_arr : [17, 19, 21, 23]\n",
      "result : [[6, 14, -1, 9], [9, 5, 20, 6], [8, 4, 5, 8], [17, 19, 21, 23]]\n",
      "n : 4\n",
      "type n : <class 'int'>\n",
      "sub result :[[6, 14, -1, 9], [9, 5, 20, 6], [8, 4, 5, 8], [17, 19, 21, 23]]\n",
      "False\n",
      "tmp_arr : [5, 6, 9, 14]\n",
      "row_arr : [9]\n",
      "tmp_arr : [-1, 6, 9, 20]\n",
      "row_arr : [9, 9]\n",
      "result : [[9, 9]]\n",
      "tmp_arr : [4, 8, 17, 19]\n",
      "row_arr : [17]\n",
      "tmp_arr : [5, 8, 21, 23]\n",
      "row_arr : [17, 21]\n",
      "result : [[9, 9], [17, 21]]\n",
      "n : 2\n",
      "type n : <class 'int'>\n",
      "sub result :[[9, 9], [17, 21]]\n",
      "False\n",
      "tmp_arr : [9, 9, 17, 21]\n",
      "row_arr : [17]\n",
      "result : [[17]]\n",
      "n : 1\n",
      "type n : <class 'int'>\n",
      "sub result :[[17]]\n",
      "True\n",
      "17\n"
     ]
    }
   ],
   "source": [
    "matrix = [[-1, 2, 14, 7, 4, -5, 8, 9], [10, 6, 23, 2, -1, -1, 7, 11], [9, 3, 5, -2, 4, 4, 6, 6], [7, 15, 0, 8, 21, 20, 6, 6], [19, 8, 12, -8, 4, 5, 2, 9], [1, 2, 3, 4, 5, 6, 7, 8], [9, 10, 11, 12, 13, 14, 15, 16], [17, 18, 19, 20, 21, 22, 23, 24]]\n",
    "\n",
    "n=8\n",
    "result =[]\n",
    "def cal(arr):\n",
    "    arr.sort()\n",
    "    return arr[2]\n",
    "\n",
    "def divide(matrix, row, col, n,row_arr):               \n",
    "    if row ==0:\n",
    "        row_arr = []\n",
    "    tmp_arr=[]\n",
    "\n",
    "    for i in range(2):\n",
    "        for j in range(2):\n",
    "            tmp_arr.append(matrix[col + i][row + j])\n",
    "    tmp = cal(tmp_arr)\n",
    "    row_arr.append(tmp)\n",
    "    print(f\"tmp_arr : {tmp_arr}\")\n",
    "    print(f\"row_arr : {row_arr}\")\n",
    "    \n",
    "    \n",
    "    \n",
    "    if row >= n-2 :\n",
    "        col = col+2\n",
    "        result.append(row_arr)\n",
    "        print(f\"result : {result}\")\n",
    "        row = -2\n",
    "        \n",
    "    if col == n:\n",
    "            n = n//2\n",
    "            print(f\"n : {n}\")\n",
    "            print(f\"type n : {type(n)}\")\n",
    "            print(f\"sub result :{result}\" )\n",
    "            print(n==1)\n",
    "            if n==1:\n",
    "                return\n",
    "            else:\n",
    "                row_arr=[]\n",
    "                matrix = result[:]\n",
    "                result[:] = []\n",
    "                row = -2\n",
    "                col = 0\n",
    "            \n",
    "        \n",
    "    divide(matrix, row+2,col, n,row_arr)\n",
    "    \n",
    "\n",
    "divide(matrix, 0,0, n,row_arr)\n",
    "print(result[0][0])"
   ]
  },
  {
   "cell_type": "code",
   "execution_count": 111,
   "id": "c37f4d10",
   "metadata": {},
   "outputs": [
    {
     "name": "stdout",
     "output_type": "stream",
     "text": [
      "[1, 1, 1]\n"
     ]
    }
   ],
   "source": [
    "matrix = [[-1, 2, 14, 7, 4, -5, 8, 9], [10, 6, 23, 2, -1, -1, 7, 11], [9, 3, 5, -2, 4, 4, 6, 6], [7, 15, 0, 8, 21, 20, 6, 6], [19, 8, 12, -8, 4, 5, 2, 9], [1, 2, 3, 4, 5, 6, 7, 8], [9, 10, 11, 12, 13, 14, 15, 16], [17, 18, 19, 20, 21, 22, 23, 24]]\n",
    "result =[1,1,1]\n",
    "matrix = result[:]\n",
    "result[:] =[]\n",
    "print(matrix)\n"
   ]
  },
  {
   "cell_type": "code",
   "execution_count": 141,
   "id": "dcae504b",
   "metadata": {},
   "outputs": [
    {
     "name": "stdout",
     "output_type": "stream",
     "text": [
      "4\n",
      "-6 -8 7 -4\n",
      "-5 -5 14 11\n",
      "11 11 -1 -1\n",
      "4 9 -2 -4\n",
      "11\n"
     ]
    }
   ],
   "source": [
    "n = int(input())\n",
    "matrix = []\n",
    "for i in range(n):\n",
    "    tmp = list(map(int, input().split()))\n",
    "    matrix.append(tmp)\n",
    "    \n",
    "result =[]\n",
    "\n",
    "def cal(arr):\n",
    "    arr.sort()\n",
    "    return arr[2]\n",
    "\n",
    "def divide(matrix, row, col, n,row_arr):               \n",
    "    if row ==0:\n",
    "        row_arr = []\n",
    "    tmp_arr=[]\n",
    "\n",
    "    for i in range(2):\n",
    "        for j in range(2):\n",
    "            tmp_arr.append(matrix[col + i][row + j])\n",
    "    tmp = cal(tmp_arr)\n",
    "    row_arr.append(tmp)   \n",
    "    \n",
    "    if row >= n-2 :\n",
    "        col = col+2\n",
    "        result.append(row_arr)\n",
    "        row = -2\n",
    "        \n",
    "    if col == n:\n",
    "            n = n//2\n",
    "            if n==1:\n",
    "                return\n",
    "            row_arr=[]\n",
    "            matrix = result[:]\n",
    "            result[:] = []\n",
    "            row = -2\n",
    "            col = 0\n",
    "    divide(matrix, row+2,col, n,row_arr)\n",
    "\n",
    "divide(matrix, 0,0, n,row_arr)\n",
    "print(result[0][0])"
   ]
  },
  {
   "cell_type": "code",
   "execution_count": 142,
   "id": "d31f01ff",
   "metadata": {},
   "outputs": [
    {
     "name": "stdout",
     "output_type": "stream",
     "text": [
      "4\n",
      "-6 -8 7 -4\n",
      "-5 -5 14 11\n",
      "11 11 -1 -1\n",
      "4 9 -2 -4\n",
      "11\n"
     ]
    }
   ],
   "source": [
    "n = int(input())\n",
    "matrix = []\n",
    "for i in range(n):\n",
    "    tmp = list(map(int, input().split()))\n",
    "    matrix.append(tmp)\n",
    "    \n",
    "result = []\n",
    "\n",
    "def cal(arr):\n",
    "    arr.sort()\n",
    "    return arr[2]\n",
    "\n",
    "def divide(matrix, row, col, n, row_arr):\n",
    "    if col >= n:\n",
    "        return\n",
    "\n",
    "    if row == 0 and col == 0:\n",
    "        row_arr = []\n",
    "\n",
    "    tmp_arr = []\n",
    "    for i in range(2):\n",
    "        for j in range(2):\n",
    "            tmp_arr.append(matrix[col + i][row + j])\n",
    "    tmp = cal(tmp_arr)\n",
    "    row_arr.append(tmp)\n",
    "    \n",
    "    if row >= n - 2:\n",
    "        col += 2\n",
    "        result.append(row_arr)\n",
    "        row = -2\n",
    "        row_arr = []\n",
    "\n",
    "    if col == n and n > 1:\n",
    "        n //= 2\n",
    "        if n == 1:\n",
    "            return\n",
    "        row_arr = []\n",
    "        matrix = result[:]\n",
    "        result[:] = []\n",
    "        row = -2\n",
    "        col = 0\n",
    "        \n",
    "    divide(matrix, row + 2, col, n, row_arr)\n",
    "\n",
    "divide(matrix, 0, 0, n, [])\n",
    "print(result[0][0])\n"
   ]
  },
  {
   "cell_type": "code",
   "execution_count": 143,
   "id": "e9c7478d",
   "metadata": {},
   "outputs": [
    {
     "name": "stdout",
     "output_type": "stream",
     "text": [
      "4\n",
      "-6 -8 7 -4\n",
      "-5 -5 14 11\n",
      "11 11 -1 -1\n",
      "4 9 -2 -4\n",
      "11\n"
     ]
    }
   ],
   "source": [
    "n = int(input())\n",
    "matrix = []\n",
    "for i in range(n):\n",
    "    tmp = list(map(int, input().split()))\n",
    "    matrix.append(tmp)\n",
    "\n",
    "result = []\n",
    "\n",
    "def cal(arr):\n",
    "    arr.sort()\n",
    "    return arr[2]\n",
    "\n",
    "def divide(matrix, n):\n",
    "    while n > 1:\n",
    "        new_result = []\n",
    "        for col in range(0, n, 2):\n",
    "            row_arr = []\n",
    "            for row in range(0, n, 2):\n",
    "                tmp_arr = []\n",
    "                for i in range(2):\n",
    "                    for j in range(2):\n",
    "                        tmp_arr.append(matrix[col + i][row + j])\n",
    "                tmp = cal(tmp_arr)\n",
    "                row_arr.append(tmp)\n",
    "            new_result.append(row_arr)\n",
    "        matrix = new_result\n",
    "        n //= 2\n",
    "    return matrix\n",
    "\n",
    "result = divide(matrix, n)\n",
    "print(result[0][0])\n"
   ]
  },
  {
   "cell_type": "code",
   "execution_count": null,
   "id": "cd0cdda1",
   "metadata": {},
   "outputs": [],
   "source": []
  }
 ],
 "metadata": {
  "kernelspec": {
   "display_name": "Python 3 (ipykernel)",
   "language": "python",
   "name": "python3"
  },
  "language_info": {
   "codemirror_mode": {
    "name": "ipython",
    "version": 3
   },
   "file_extension": ".py",
   "mimetype": "text/x-python",
   "name": "python",
   "nbconvert_exporter": "python",
   "pygments_lexer": "ipython3",
   "version": "3.9.18"
  }
 },
 "nbformat": 4,
 "nbformat_minor": 5
}
