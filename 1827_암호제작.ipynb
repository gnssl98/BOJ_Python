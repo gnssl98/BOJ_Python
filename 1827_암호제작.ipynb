{
 "cells": [
  {
   "cell_type": "code",
   "execution_count": 39,
   "id": "ba08b0ff",
   "metadata": {},
   "outputs": [
    {
     "name": "stdout",
     "output_type": "stream",
     "text": [
      "221 13\n",
      "GOOD\n"
     ]
    }
   ],
   "source": [
    "K,L = map(int, input().split())\n",
    "tmp=0\n",
    "if K%L==0:\n",
    "    if K//L >=L:\n",
    "        print(\"GOOD\")\n",
    "    else :\n",
    "        print(\"BAD {}\".format(K//L))\n",
    "else:\n",
    "    for i in range(2,L):\n",
    "        if K%i ==0:\n",
    "            tmp=1\n",
    "            break\n",
    "    if tmp==0:\n",
    "        print(\"GOOD\")\n",
    "    else :\n",
    "        print(\"BAD {}\".format(i))\n",
    "    "
   ]
  },
  {
   "cell_type": "code",
   "execution_count": 28,
   "id": "673f0ee2",
   "metadata": {},
   "outputs": [
    {
     "name": "stdout",
     "output_type": "stream",
     "text": [
      "range(1, 10)\n"
     ]
    }
   ],
   "source": [
    "print(range(1,10))"
   ]
  },
  {
   "cell_type": "code",
   "execution_count": null,
   "id": "e1184cb5",
   "metadata": {},
   "outputs": [],
   "source": []
  }
 ],
 "metadata": {
  "kernelspec": {
   "display_name": "Python 3 (ipykernel)",
   "language": "python",
   "name": "python3"
  },
  "language_info": {
   "codemirror_mode": {
    "name": "ipython",
    "version": 3
   },
   "file_extension": ".py",
   "mimetype": "text/x-python",
   "name": "python",
   "nbconvert_exporter": "python",
   "pygments_lexer": "ipython3",
   "version": "3.9.13"
  }
 },
 "nbformat": 4,
 "nbformat_minor": 5
}
