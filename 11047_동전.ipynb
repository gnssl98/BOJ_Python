{
 "cells": [
  {
   "cell_type": "markdown",
   "id": "8605278c",
   "metadata": {},
   "source": [
    "## 문제\n",
    "준규가 가지고 있는 동전은 총 N종류이고, 각각의 동전을 매우 많이 가지고 있다.\n",
    "\n",
    "동전을 적절히 사용해서 그 가치의 합을 K로 만들려고 한다. 이때 필요한 동전 개수의 최솟값을 구하는 프로그램을 작성하시오.\n",
    "\n",
    "### 입력\n",
    "첫째 줄에 N과 K가 주어진다. (1 ≤ N ≤ 10, 1 ≤ K ≤ 100,000,000)\n",
    "\n",
    "둘째 줄부터 N개의 줄에 동전의 가치 Ai가 오름차순으로 주어진다. (1 ≤ Ai ≤ 1,000,000, A1 = 1, i ≥ 2인 경우에 Ai는 Ai-1의 배수)\n",
    "\n",
    "### 출력\n",
    "첫째 줄에 K원을 만드는데 필요한 동전 개수의 최솟값을 출력한다."
   ]
  },
  {
   "cell_type": "markdown",
   "id": "3e64765a",
   "metadata": {},
   "source": [
    "### 해결책\n",
    "K를 동전의 가치 Ai로 나눈 몫을 동전개수값에 더하고\n",
    "나머지를 K로 다시 설정하고 for문을 연산하면 된다.\n",
    "\n",
    "K = 5600원 Ai = 1000원\n",
    "몫 : 5 , 나머지 : 600\n",
    "600원 100원\n",
    "몫 : 6  나머지 :0 -> break!"
   ]
  },
  {
   "cell_type": "code",
   "execution_count": 54,
   "id": "969535a9",
   "metadata": {},
   "outputs": [
    {
     "name": "stdout",
     "output_type": "stream",
     "text": [
      "3 5600\n",
      "10\n",
      "100\n",
      "1000\n",
      "11\n"
     ]
    }
   ],
   "source": [
    "N,K = map(int, input().split())\n",
    "coin_val = []\n",
    "for i in range(N):\n",
    "    coin_val.append(int(input()))\n",
    "\n",
    "res = 0\n",
    "coin_val.sort(reverse=True)\n",
    "for idx in range(N):\n",
    "    res += (K//coin_val[idx])\n",
    "    K %=coin_val[idx]\n",
    "    if K <=0:\n",
    "        break\n",
    "print(res)\n"
   ]
  },
  {
   "cell_type": "markdown",
   "id": "84060a8b",
   "metadata": {},
   "source": [
    "### 찾아본 결과"
   ]
  },
  {
   "cell_type": "code",
   "execution_count": 49,
   "id": "24668d5c",
   "metadata": {},
   "outputs": [
    {
     "name": "stdout",
     "output_type": "stream",
     "text": [
      "3 5600\n",
      "10\n",
      "100\n",
      "1000\n",
      "11\n"
     ]
    }
   ],
   "source": [
    "N,K = map(int, input().split())\n",
    "\n",
    "coins = []\n",
    "for _ in range(N):\n",
    "    coins.append(int(input()))\n",
    "coins.sort(reverse=True)\n",
    "\n",
    "res=0\n",
    "for coin in coins:\n",
    "    if K>=coin:\n",
    "        res += K//coin\n",
    "        K = K% coin\n",
    "        if K<=0:\n",
    "            break\n",
    "print(res)"
   ]
  },
  {
   "cell_type": "code",
   "execution_count": null,
   "id": "e75459be",
   "metadata": {},
   "outputs": [],
   "source": []
  }
 ],
 "metadata": {
  "kernelspec": {
   "display_name": "Python 3 (ipykernel)",
   "language": "python",
   "name": "python3"
  },
  "language_info": {
   "codemirror_mode": {
    "name": "ipython",
    "version": 3
   },
   "file_extension": ".py",
   "mimetype": "text/x-python",
   "name": "python",
   "nbconvert_exporter": "python",
   "pygments_lexer": "ipython3",
   "version": "3.9.13"
  }
 },
 "nbformat": 4,
 "nbformat_minor": 5
}
