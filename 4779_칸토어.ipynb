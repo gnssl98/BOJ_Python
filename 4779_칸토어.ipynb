{
 "cells": [
  {
   "cell_type": "code",
   "execution_count": 43,
   "id": "eee41d44",
   "metadata": {},
   "outputs": [
    {
     "name": "stdout",
     "output_type": "stream",
     "text": [
      "[0. 1. 0. 1. 1. 1. 0. 1. 0. 1. 1. 1. 1. 1. 1. 1. 1. 1. 0. 1. 0. 1. 1. 1.\n",
      " 0. 1. 0.]\n"
     ]
    }
   ],
   "source": [
    "import numpy as np\n",
    "x = 3 \n",
    "y=1\n",
    "for i in range(x):\n",
    "    y = y *3\n",
    "\n",
    "arr = np.zeros(y)\n",
    "start = 0\n",
    "\n",
    "def divide(y, start):\n",
    "    if y ==1 :\n",
    "        return\n",
    "    else:\n",
    "        for i in range(start+y//3 , start+(y//3)*2):\n",
    "            arr[i] =1\n",
    "        divide(y//3,start), divide(y//3, start+y//3*2)\n",
    "\n",
    "\n",
    "divide(y, start)\n",
    "print(arr)"
   ]
  },
  {
   "cell_type": "code",
   "execution_count": 54,
   "id": "c713693c",
   "metadata": {},
   "outputs": [
    {
     "name": "stdout",
     "output_type": "stream",
     "text": [
      "3 6 1\n",
      "- -   - -         - -   - -\n",
      "- -   - -         - -   - -                           - -   - -         - -   - -                                                                                 - -   - -         - -   - -                           - -   - -         - -   - -                                                                                                                                                                                                                                                   - -   - -         - -   - -                           - -   - -         - -   - -                                                                                 - -   - -         - -   - -                           - -   - -         - -   - -\n",
      "- -\n"
     ]
    }
   ],
   "source": [
    "x = list(map(int, input().split()))\n",
    "\n",
    "def divide(y, start):\n",
    "    if y ==1 :\n",
    "        return\n",
    "    else:\n",
    "        for i in range(start+y//3 , start+(y//3)*2):\n",
    "            arr[i] = ' '\n",
    "        divide(y//3,start), divide(y//3, start+y//3*2)\n",
    "\n",
    "l = len(x)\n",
    "y =[]\n",
    "\n",
    "for i in range(l):\n",
    "    y.append(3**x[i])\n",
    "\n",
    "for j in range(l):\n",
    "    arr = ['-']*y[j]\n",
    "    start = 0\n",
    "    divide(y[j], start)\n",
    "    print(''.join(arr))"
   ]
  },
  {
   "cell_type": "code",
   "execution_count": 23,
   "id": "f2be6a22",
   "metadata": {},
   "outputs": [
    {
     "name": "stdout",
     "output_type": "stream",
     "text": [
      "0\n"
     ]
    }
   ],
   "source": [
    "z =1\n",
    "tmp = z//3\n",
    "print(tmp)"
   ]
  },
  {
   "cell_type": "code",
   "execution_count": 56,
   "id": "c6974685",
   "metadata": {},
   "outputs": [
    {
     "name": "stdout",
     "output_type": "stream",
     "text": [
      "3\n",
      "- -   - -         - -   - -\n",
      "1\n",
      "- -\n",
      "6\n",
      "- -   - -         - -   - -                           - -   - -         - -   - -                                                                                 - -   - -         - -   - -                           - -   - -         - -   - -                                                                                                                                                                                                                                                   - -   - -         - -   - -                           - -   - -         - -   - -                                                                                 - -   - -         - -   - -                           - -   - -         - -   - -\n",
      "\n"
     ]
    }
   ],
   "source": [
    "def divide(y, start):\n",
    "    if y ==1 :\n",
    "        return\n",
    "    else:\n",
    "        for i in range(start+y//3 , start+(y//3)*2):\n",
    "            arr[i] = ' '\n",
    "        divide(y//3,start), divide(y//3, start+y//3*2)\n",
    "\n",
    "while True:\n",
    "    try :\n",
    "        x = int(input())\n",
    "        y = 3**x\n",
    "        arr = ['-']*y\n",
    "        start = 0\n",
    "        divide(y,start)\n",
    "        print(''.join(arr))\n",
    "    except:\n",
    "        break"
   ]
  },
  {
   "cell_type": "code",
   "execution_count": null,
   "id": "458600d0",
   "metadata": {},
   "outputs": [],
   "source": []
  }
 ],
 "metadata": {
  "kernelspec": {
   "display_name": "Python 3 (ipykernel)",
   "language": "python",
   "name": "python3"
  },
  "language_info": {
   "codemirror_mode": {
    "name": "ipython",
    "version": 3
   },
   "file_extension": ".py",
   "mimetype": "text/x-python",
   "name": "python",
   "nbconvert_exporter": "python",
   "pygments_lexer": "ipython3",
   "version": "3.11.5"
  }
 },
 "nbformat": 4,
 "nbformat_minor": 5
}
