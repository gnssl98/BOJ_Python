{
 "cells": [
  {
   "cell_type": "code",
   "execution_count": 3,
   "id": "3527e95a",
   "metadata": {},
   "outputs": [
    {
     "name": "stdout",
     "output_type": "stream",
     "text": [
      "4\n",
      "1 2 1 2 \n"
     ]
    }
   ],
   "source": [
    "n = int(input())\n",
    "str =''\n",
    "\n",
    "for i in range(n//2):\n",
    "    str+=\"1 2 \"\n",
    "    \n",
    "if n%2 !=0:\n",
    "    str+=\"3\"\n",
    "    \n",
    "print(str)"
   ]
  }
 ],
 "metadata": {
  "kernelspec": {
   "display_name": "Python 3 (ipykernel)",
   "language": "python",
   "name": "python3"
  },
  "language_info": {
   "codemirror_mode": {
    "name": "ipython",
    "version": 3
   },
   "file_extension": ".py",
   "mimetype": "text/x-python",
   "name": "python",
   "nbconvert_exporter": "python",
   "pygments_lexer": "ipython3",
   "version": "3.11.5"
  }
 },
 "nbformat": 4,
 "nbformat_minor": 5
}
