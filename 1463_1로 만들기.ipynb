{
 "cells": [
  {
   "cell_type": "code",
   "execution_count": 45,
   "id": "be5096d6",
   "metadata": {},
   "outputs": [
    {
     "name": "stdout",
     "output_type": "stream",
     "text": [
      "10\n",
      "2 : [0, 0, 0, 0, 0, 0, 0, 0, 0, 0, 0]\n",
      "3 : [0, 0, 1, 0, 0, 0, 0, 0, 0, 0, 0]\n",
      "4 : [0, 0, 1, 1, 0, 0, 0, 0, 0, 0, 0]\n",
      "5 : [0, 0, 1, 1, 2, 0, 0, 0, 0, 0, 0]\n",
      "6 : [0, 0, 1, 1, 2, 3, 0, 0, 0, 0, 0]\n",
      "7 : [0, 0, 1, 1, 2, 3, 2, 0, 0, 0, 0]\n",
      "8 : [0, 0, 1, 1, 2, 3, 2, 3, 0, 0, 0]\n",
      "9 : [0, 0, 1, 1, 2, 3, 2, 3, 3, 0, 0]\n",
      "10 : [0, 0, 1, 1, 2, 3, 2, 3, 3, 2, 0]\n",
      "3\n"
     ]
    }
   ],
   "source": [
    "N = int(input())\n",
    "\n",
    "dp = [0] * 10000001\n",
    "\n",
    "#dp[i] : 숫자 i를 만드는데 필요한 최소 연산 횟수\n",
    "#보텀업\n",
    "for i in range (2, N+1) :\n",
    "    dp[i] = dp[i-1] + 1 # 1을 빼주는 경우는 모든 숫자에 대해서 가능\n",
    "    \n",
    "    if i % 2 == 0: # 2로 나누어 떨어지는 경우, 최소값 갱신\n",
    "        dp[i] = min(dp[i], dp[i//2] + 1) \n",
    "    \n",
    "    if i % 3 == 0 :# 3으로 나누어 떨어지는 경우, 최소값 갱신\n",
    "        dp[i] = min(dp[i], dp[i//3] + 1)\n",
    "\n",
    "print(dp[N])"
   ]
  },
  {
   "cell_type": "code",
   "execution_count": null,
   "id": "c5fb1b19",
   "metadata": {},
   "outputs": [],
   "source": []
  }
 ],
 "metadata": {
  "kernelspec": {
   "display_name": "Python 3 (ipykernel)",
   "language": "python",
   "name": "python3"
  },
  "language_info": {
   "codemirror_mode": {
    "name": "ipython",
    "version": 3
   },
   "file_extension": ".py",
   "mimetype": "text/x-python",
   "name": "python",
   "nbconvert_exporter": "python",
   "pygments_lexer": "ipython3",
   "version": "3.9.18"
  }
 },
 "nbformat": 4,
 "nbformat_minor": 5
}
