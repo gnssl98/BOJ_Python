{
 "cells": [
  {
   "cell_type": "code",
   "execution_count": 29,
   "id": "764c5d34",
   "metadata": {},
   "outputs": [
    {
     "name": "stdout",
     "output_type": "stream",
     "text": [
      "5\n",
      "1 01:10\n",
      "1 02:20\n",
      "2 45:30\n",
      "2 46:40\n",
      "2 47:50\n",
      "45:30\n",
      "00:10\n"
     ]
    }
   ],
   "source": [
    "n = int(input())\n",
    "\n",
    "team1 = [0, 0]\n",
    "team2 = [0, 0]\n",
    "bef =[0, 0]\n",
    "\n",
    "for _ in range(n):\n",
    "    win, time = input().split()\n",
    "    if win == '1': team1[0] += 1\n",
    "    else: team2[0] += 1\n",
    "    minute, second = map(int, time.split(\":\"))\n",
    "    time = minute*60 + second\n",
    "    if team1[0] == team2[0]:\n",
    "        if bef[0] == 1:\n",
    "            team1[1] += time - bef[1]\n",
    "        else:\n",
    "            team2[1] += time - bef[1]\n",
    "        bef[0] = 0\n",
    "    elif team1[0] > team2[0]:\n",
    "        if bef[0] == 0:\n",
    "            bef[1] = time\n",
    "            bef[0] = 1\n",
    "    else: \n",
    "        if bef[0] == 0: \n",
    "            bef[1] = time\n",
    "            bef[0] = 2\n",
    "\n",
    "if bef[0] == 1:\n",
    "    team1[1] += 48*60 - bef[1]\n",
    "if bef[0] == 2:\n",
    "    team2[1] += 48*60 - bef[1]\n",
    "\n",
    "print(\"%02d:%02d\" %(team1[1]//60, team1[1]%60))\n",
    "print(\"%02d:%02d\" %(team2[1]//60, team2[1]%60))"
   ]
  }
 ],
 "metadata": {
  "kernelspec": {
   "display_name": "Python 3 (ipykernel)",
   "language": "python",
   "name": "python3"
  },
  "language_info": {
   "codemirror_mode": {
    "name": "ipython",
    "version": 3
   },
   "file_extension": ".py",
   "mimetype": "text/x-python",
   "name": "python",
   "nbconvert_exporter": "python",
   "pygments_lexer": "ipython3",
   "version": "3.9.18"
  }
 },
 "nbformat": 4,
 "nbformat_minor": 5
}
