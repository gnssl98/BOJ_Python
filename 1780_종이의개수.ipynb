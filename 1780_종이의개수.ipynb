{
 "cells": [
  {
   "cell_type": "code",
   "execution_count": 6,
   "id": "19f1c8fe",
   "metadata": {},
   "outputs": [
    {
     "name": "stdout",
     "output_type": "stream",
     "text": [
      "3\n",
      "1 4 2\n",
      "1 3 2\n",
      "1 0 1\n",
      "[[1, 4, 2]]\n",
      "False\n",
      "[[1, 4, 2], [1, 3, 2], [1, 0, 1]]\n"
     ]
    }
   ],
   "source": [
    "n = int(input())\n",
    "matrix = []\n",
    "for i in range(n):\n",
    "    row = list(map(int, input().split()))\n",
    "    matrix.append(row)\n",
    "\n",
    "cnt = []\n",
    "    \n",
    "def check_matrix(matrix):\n",
    "    first = matrix[0]\n",
    "    for m in matrix:\n",
    "        if m != first:\n",
    "            return False\n",
    "    return True\n",
    "\n",
    "print(matrix[0:1][0:1])\n",
    "\n",
    "print(check_matrix(matrix))\n",
    "print(matrix)"
   ]
  },
  {
   "cell_type": "code",
   "execution_count": 31,
   "id": "3ebf4392",
   "metadata": {},
   "outputs": [
    {
     "name": "stdout",
     "output_type": "stream",
     "text": [
      "[[0, 0, 0], [0, 0, 0], [0, 0, 0]]\n",
      "tmp:[0, 1, -1]\n",
      "tmp:[0, 1, -1]\n",
      "tmp:[0, 1, -1]\n",
      "[[0, 1, -1], [0, 1, -1], [0, 1, -1]]\n"
     ]
    }
   ],
   "source": [
    "matrix = [[0, 0, 0, 1, 1, 1, -1, -1, -1],\n",
    "[0, 0, 0, 1, 1, 1, -1, -1, -1],\n",
    "[0, 0, 0, 1, 1, 1, -1, -1, -1],\n",
    "[1, 1, 1, 0, 0, 0, 0, 0, 0],\n",
    "[1, 1, 1, 0, 0, 0, 0, 0, 0],\n",
    "[1, 1, 1, 0, 0, 0, 0, 0, 0],\n",
    "[0, 1, -1, 0, 1, -1, 0, 1, -1],\n",
    "[0, -1, 1, 0, 1, -1, 0, 1, -1],\n",
    "[0, 1, -1, 1, 0, -1, 0, 1, -1]]\n",
    "\n",
    "tmp =[]\n",
    "tmp_arr = []\n",
    "for i in range(3):\n",
    "    for j in range(i):\n",
    "        tmp.append(matrix[i][j])\n",
    "    tmp_arr.append(tmp)\n",
    "    \n",
    "print(tmp_arr)\n",
    "\n",
    "def split_matrix(matrix, n, step):\n",
    "    tmp =[]\n",
    "    tmp_arr = []\n",
    "    for i in range(n, n+step):\n",
    "        for j in range(n, n+step):\n",
    "            tmp.append(matrix[i][j])\n",
    "        print(f\"tmp:{tmp}\")\n",
    "        tmp_arr.append(tmp)\n",
    "        tmp =[]\n",
    "    return tmp_arr\n",
    "\n",
    "print(split_matrix(matrix, 6,3))"
   ]
  },
  {
   "cell_type": "code",
   "execution_count": 16,
   "id": "3e678867",
   "metadata": {},
   "outputs": [
    {
     "name": "stdout",
     "output_type": "stream",
     "text": [
      "9\n",
      "10\n",
      "11\n"
     ]
    }
   ],
   "source": [
    "n = 9\n",
    "step =3\n",
    "for i in range(n, n+step):\n",
    "    print(i)"
   ]
  },
  {
   "cell_type": "markdown",
   "id": "674f2a92",
   "metadata": {},
   "source": [
    "1. 종이가 같은 수로 이루어져 있는가?\n",
    "2. 같은 크기로 9개로 나누는것"
   ]
  }
 ],
 "metadata": {
  "kernelspec": {
   "display_name": "Python 3 (ipykernel)",
   "language": "python",
   "name": "python3"
  },
  "language_info": {
   "codemirror_mode": {
    "name": "ipython",
    "version": 3
   },
   "file_extension": ".py",
   "mimetype": "text/x-python",
   "name": "python",
   "nbconvert_exporter": "python",
   "pygments_lexer": "ipython3",
   "version": "3.11.5"
  }
 },
 "nbformat": 4,
 "nbformat_minor": 5
}
