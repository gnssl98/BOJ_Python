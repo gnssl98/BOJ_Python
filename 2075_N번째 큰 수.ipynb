{
 "cells": [
  {
   "cell_type": "code",
   "execution_count": 17,
   "id": "edfdcec8",
   "metadata": {},
   "outputs": [
    {
     "name": "stdout",
     "output_type": "stream",
     "text": [
      "5\n",
      "12 7 9 15 5\n",
      "13 8 11 19 6\n",
      "21 10 26 31 16\n",
      "48 14 28 35 25\n",
      "52 20 32 41 49\n",
      "35\n"
     ]
    }
   ],
   "source": [
    "import heapq\n",
    "\n",
    "heap = []\n",
    "n = int(input())\n",
    "\n",
    "for _ in range(n):\n",
    "    num = map(int, input().split())\n",
    "    for number in num:\n",
    "        if len(heap) < n: \n",
    "            heapq.heappush(heap, number)\n",
    "        else:\n",
    "            if heap[0] < number:\n",
    "                heapq.heappop(heap)\n",
    "                heapq.heappush(heap, number)\n",
    "print(heap[0])"
   ]
  },
  {
   "cell_type": "code",
   "execution_count": null,
   "id": "97ba139f",
   "metadata": {},
   "outputs": [],
   "source": []
  }
 ],
 "metadata": {
  "kernelspec": {
   "display_name": "Python 3 (ipykernel)",
   "language": "python",
   "name": "python3"
  },
  "language_info": {
   "codemirror_mode": {
    "name": "ipython",
    "version": 3
   },
   "file_extension": ".py",
   "mimetype": "text/x-python",
   "name": "python",
   "nbconvert_exporter": "python",
   "pygments_lexer": "ipython3",
   "version": "3.11.5"
  }
 },
 "nbformat": 4,
 "nbformat_minor": 5
}
