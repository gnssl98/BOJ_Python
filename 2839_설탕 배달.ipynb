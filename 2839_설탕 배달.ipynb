{
 "cells": [
  {
   "cell_type": "code",
   "execution_count": 11,
   "id": "89898b48",
   "metadata": {},
   "outputs": [
    {
     "name": "stdout",
     "output_type": "stream",
     "text": [
      "18\n",
      "4\n"
     ]
    }
   ],
   "source": [
    "N = int(input())\n",
    "\n",
    "dp = [0] * 10000001\n",
    "\n",
    "dp[3] = 1\n",
    "dp[4] = -1\n",
    "dp[5] = 1\n",
    "dp[6] = 2\n",
    "dp[7] =-1\n",
    "dp[8] = 2\n",
    "dp[9]=3\n",
    "dp[10] =2\n",
    "dp[11]=3\n",
    "dp[12] =4\n",
    "\n",
    "for i in range(8, N+1):\n",
    "    if dp[i-3]!=-1:\n",
    "        dp[i] = dp[i-3] + 1\n",
    "    if dp[i-5]!=-1:\n",
    "        dp[i] = dp[i-5] +1\n",
    "\n",
    "print(dp[N])"
   ]
  },
  {
   "cell_type": "code",
   "execution_count": null,
   "id": "94da913e",
   "metadata": {},
   "outputs": [],
   "source": []
  }
 ],
 "metadata": {
  "kernelspec": {
   "display_name": "Python 3 (ipykernel)",
   "language": "python",
   "name": "python3"
  },
  "language_info": {
   "codemirror_mode": {
    "name": "ipython",
    "version": 3
   },
   "file_extension": ".py",
   "mimetype": "text/x-python",
   "name": "python",
   "nbconvert_exporter": "python",
   "pygments_lexer": "ipython3",
   "version": "3.9.18"
  }
 },
 "nbformat": 4,
 "nbformat_minor": 5
}
