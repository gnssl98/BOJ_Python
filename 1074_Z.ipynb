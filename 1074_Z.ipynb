{
 "cells": [
  {
   "cell_type": "code",
   "execution_count": 20,
   "id": "0201422f",
   "metadata": {},
   "outputs": [
    {
     "name": "stdout",
     "output_type": "stream",
     "text": [
      "2 3 1\n",
      "7\n"
     ]
    }
   ],
   "source": [
    "n, r, c = map(int, input().split())\n",
    "\n",
    "r=r+1\n",
    "c=c+1\n",
    "\n",
    "if c%2 ==0 :\n",
    "    x=1\n",
    "else :\n",
    "    x=0\n",
    "\n",
    "res = r *c - x\n",
    "print(res)\n",
    "\n"
   ]
  },
  {
   "cell_type": "code",
   "execution_count": null,
   "id": "88656b36",
   "metadata": {},
   "outputs": [],
   "source": [
    "0 0 \n",
    "0 1\n",
    "1 0\n",
    "1 1\n",
    "\n",
    "n=1  => 2x2\n",
    "n=2 => 4x4\n",
    "n=3 -=> 8x8\n",
    "\n",
    "1. 사각형으로 쪼개는것\n",
    "2. z 자로 탐색하는것\n",
    "\n",
    "몇번째인지는 cnt 증가시키면될듯\n",
    "근데 몇번째인지 그냥 숫자랑 동일함\n",
    "\n",
    "\n",
    "n = 2\n",
    "\n",
    "끝자리 수 : 2^n * 2^n -1\n",
    "(0,0) -> 2*0 - 0 =0\n",
    "(1,0) -> 2*1 -1 = 1\n",
    "(0,1) -> 2*1 -0 =2\n",
    "(1,1) -> 2*2 -1 =3\n",
    "2 * (col+row) - x(col%2 ==0 : 0, col%2==1 :1)\n",
    "(2,0) -> 2^2 -0\n",
    "(3,0) -> 2*3 - 1\n",
    "(2,1) -> 2*3 -0\n",
    "(3,1) -> 2*4-1\n",
    "\n",
    "\n",
    "\n",
    "(2,1) = 3\n",
    "(2,4) = 7\n",
    "(4,1) = 11\n",
    "(4,4) = 15\n",
    "\n",
    "4 8 12 16\n",
    "\n",
    "(1,1) = 0\n",
    "(1,3) = 4\n",
    "(3,1) = 8\n",
    "(3,3) = 12\n",
    "\n",
    "2^n 을 기준으로 쪼개자\n",
    "n=3 -> 8\n"
   ]
  }
 ],
 "metadata": {
  "kernelspec": {
   "display_name": "Python 3 (ipykernel)",
   "language": "python",
   "name": "python3"
  },
  "language_info": {
   "codemirror_mode": {
    "name": "ipython",
    "version": 3
   },
   "file_extension": ".py",
   "mimetype": "text/x-python",
   "name": "python",
   "nbconvert_exporter": "python",
   "pygments_lexer": "ipython3",
   "version": "3.11.5"
  }
 },
 "nbformat": 4,
 "nbformat_minor": 5
}
