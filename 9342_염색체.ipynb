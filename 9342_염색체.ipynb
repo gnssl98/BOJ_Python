{
 "cells": [
  {
   "cell_type": "code",
   "execution_count": 8,
   "id": "1b372b10",
   "metadata": {},
   "outputs": [
    {
     "name": "stdout",
     "output_type": "stream",
     "text": [
      "2\n",
      "AFC\n",
      "AEF\n",
      "True\n",
      "['AFC', 'AEF']\n"
     ]
    }
   ],
   "source": [
    "T =int(input())\n",
    "cnt = 0\n",
    "arr = []\n",
    "\n",
    "def check_str(str):\n",
    "    l = len(str)\n",
    "    check_A = 0\n",
    "    check_F = 0\n",
    "    check_C = 0\n",
    "    check_arr = ['A','B','C','D','E','F']\n",
    "    \n",
    "    if str[l] == :\n",
    "        \n",
    "    \n",
    "    for i in range(1,l):\n",
    "        if arr[i] == 'A':\n",
    "            check_A = i\n",
    "            break\n",
    "            \n",
    "    for i in range(check_pnt, l):\n",
    "        if arr[i] =='F':\n",
    "            check_F = i\n",
    "            break\n",
    "    \n",
    "    for i in range(check_A, check_F):\n",
    "        if arr[i] !='A':\n",
    "            return False\n",
    "    \n",
    "    for i in range(check_F, l):\n",
    "        if arr[i] =='C':\n",
    "            check_C = i\n",
    "            break\n",
    "    \n",
    "    for i in range(check_F, check_C):\n",
    "        if arr[i] != 'F':\n",
    "            return False\n",
    "    \n",
    "    for i in range(check_C , l):\n",
    "        if arr[i] !='C':\n",
    "            check_C = i\n",
    "            break\n",
    "            \n",
    "        \n",
    "    \n",
    "            \n",
    "        \n",
    "\n",
    "while cnt < T:\n",
    "    tmp = input()\n",
    "    arr.append(tmp)\n",
    "    cnt = cnt + 1\n",
    "\n",
    "if \"A\" in arr[0]:\n",
    "    print(\"True\")\n",
    "else :\n",
    "    print(\"False\")\n",
    "    \n",
    "for i in range(T):\n",
    "    if arr[i] in('A') ==True :\n",
    "        print(\"Infected!\")\n",
    "    \n",
    "print(arr)"
   ]
  },
  {
   "cell_type": "code",
   "execution_count": 9,
   "id": "606a7476",
   "metadata": {},
   "outputs": [
    {
     "name": "stdout",
     "output_type": "stream",
     "text": [
      "1\n",
      "2\n",
      "3\n"
     ]
    }
   ],
   "source": [
    "for i in range(1,4):\n",
    "    print(i)"
   ]
  },
  {
   "cell_type": "code",
   "execution_count": null,
   "id": "b10c7a59",
   "metadata": {},
   "outputs": [],
   "source": []
  }
 ],
 "metadata": {
  "kernelspec": {
   "display_name": "Python 3 (ipykernel)",
   "language": "python",
   "name": "python3"
  },
  "language_info": {
   "codemirror_mode": {
    "name": "ipython",
    "version": 3
   },
   "file_extension": ".py",
   "mimetype": "text/x-python",
   "name": "python",
   "nbconvert_exporter": "python",
   "pygments_lexer": "ipython3",
   "version": "3.9.18"
  }
 },
 "nbformat": 4,
 "nbformat_minor": 5
}
