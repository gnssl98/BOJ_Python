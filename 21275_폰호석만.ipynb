{
 "cells": [
  {
   "cell_type": "code",
   "execution_count": 5,
   "id": "429acefe",
   "metadata": {},
   "outputs": [
    {
     "name": "stdout",
     "output_type": "stream",
     "text": [
      "22 2\n",
      "ImPossible\n"
     ]
    }
   ],
   "source": [
    "A, B = input().split()\n",
    "cnt =0\n",
    "\n",
    "def trans(num):\n",
    "    new_arr = []\n",
    "    for i in range(len(num)):\n",
    "        if num[i].isalpha():\n",
    "            new_arr.append(int(ord(num[i])-87))\n",
    "        else:\n",
    "            new_arr.append(int(num[i]))\n",
    "            \n",
    "    return new_arr\n",
    "\n",
    "def multiple_cal(arr, base):\n",
    "    len_arr = len(arr)-1\n",
    "    X = 0\n",
    "    for i in range(len(arr)):\n",
    "        if len_arr==0:\n",
    "            X = X + arr[i]\n",
    "        else:\n",
    "            tmp = base **  len_arr\n",
    "            X = X + tmp *arr[i]\n",
    "        len_arr = len_arr - 1\n",
    "    return X\n",
    "\n",
    "if A==0 and B==0:\n",
    "    print(\"Multiple\")\n",
    "elif A==B: #or len(A)-len(B)>=5:\n",
    "    print(\"Impossible\")\n",
    "else:\n",
    "    new_A = trans(A)\n",
    "    new_B = trans(B)\n",
    "    \n",
    "    base_A = max(new_A) + 1\n",
    "    base_B = max(new_B) + 1\n",
    "    \n",
    "    k = multiple_cal(new_A, base_A)\n",
    "    \n",
    "    while cnt<=37 :\n",
    "        val_A = multiple_cal(new_A, base_A)\n",
    "        val_B = multiple_cal(new_B, base_B)\n",
    "        if val_A == val_B :\n",
    "            print(val_A, base_A, base_B)\n",
    "            break\n",
    "        elif val_A >= val_B:\n",
    "            base_B = base_B + 1\n",
    "            val_B = multiple_cal(new_B, base_B)\n",
    "        else :\n",
    "            base_A = base_A + 1\n",
    "            val_A = multiple_cal(new_A, base_A)\n",
    "        cnt +=1\n",
    "    if cnt >=37:\n",
    "        print(\"ImPossible\")\n",
    "                \n"
   ]
  },
  {
   "cell_type": "code",
   "execution_count": 7,
   "id": "40d75c37",
   "metadata": {},
   "outputs": [
    {
     "name": "stdout",
     "output_type": "stream",
     "text": [
      "22 2\n",
      "Impossible\n"
     ]
    }
   ],
   "source": [
    "# int 사용 (답)\n",
    "\n",
    "a, b = input().split()\n",
    " \n",
    "res = []\n",
    "for i in range(2, 37):\n",
    "    for j in range(2, 37):\n",
    "        if i == j:\n",
    "            continue\n",
    "        try:\n",
    "            if int(a, i) == int(b, j):\n",
    "                res.append((int(a, i), i, j))\n",
    "        except:\n",
    "            pass\n",
    "if len(res) < 1:\n",
    "    print(\"Impossible\")\n",
    "elif len(res) == 1:\n",
    "    print(*res[0])\n",
    "else:\n",
    "    print(\"Multiple\")"
   ]
  },
  {
   "cell_type": "code",
   "execution_count": null,
   "id": "fcf18f15",
   "metadata": {},
   "outputs": [],
   "source": []
  }
 ],
 "metadata": {
  "kernelspec": {
   "display_name": "Python 3 (ipykernel)",
   "language": "python",
   "name": "python3"
  },
  "language_info": {
   "codemirror_mode": {
    "name": "ipython",
    "version": 3
   },
   "file_extension": ".py",
   "mimetype": "text/x-python",
   "name": "python",
   "nbconvert_exporter": "python",
   "pygments_lexer": "ipython3",
   "version": "3.11.5"
  }
 },
 "nbformat": 4,
 "nbformat_minor": 5
}
