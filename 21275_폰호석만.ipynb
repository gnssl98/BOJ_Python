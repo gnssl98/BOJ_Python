{
 "cells": [
  {
   "cell_type": "code",
   "execution_count": null,
   "id": "2572d2a5",
   "metadata": {},
   "outputs": [],
   "source": [
    "A, B = input().split()\n",
    "\n",
    "def trans(num):\n",
    "    new_arr = []\n",
    "    for i in range(len(num)):\n",
    "        if num[i].isalpha():\n",
    "            new_arr.append(ord(num[i])-87)\n",
    "        else:\n",
    "            new_arr.append(num[i])\n",
    "            \n",
    "    return new_arr\n",
    "\n",
    "def multiple_cal(arr, base):\n",
    "    len_arr = len(arr)-1\n",
    "    X = 0\n",
    "    for i in range(len(arr)):\n",
    "        if len_arr==0:\n",
    "            X = X + arr[i]\n",
    "        else:\n",
    "            tmp = base ** len_arr\n",
    "            X = X + tmp *arr[i]\n",
    "        len_arr = len_arr - 1\n",
    "    return X\n",
    "\n",
    "if A==0 and B==0:\n",
    "    print(\"Multiple\")\n",
    "elif A==B:\n",
    "    print(\"Impossible\")\n",
    "else:\n",
    "    new_A = trans(A)\n",
    "    new_B = trans(B)\n",
    "    \n",
    "    base_A = max(new_A) + 1\n",
    "    base_B = max(new_B) + 1\n",
    "    \n",
    "    k = multiple_cal(new_A, base_A)\n",
    "    while True :\n",
    "        val_A = multiple_cal(new_A, base_A)\n",
    "        val_B = multiple_cal(new_B, base_B)\n",
    "        \n",
    "        if val_A == val_B :\n",
    "            print(val_A, base_A, base_B)\n",
    "            break\n",
    "        elif val_A >= val_B:\n",
    "            base_B = base_B + 1\n",
    "            val_B = multiple_cal(new_B, base_B)\n",
    "            \n",
    "        else :\n",
    "            base_A = base_A + 1\n",
    "            val_A = multiple_cal(new_A, base_A)\n",
    "            \n",
    "        if base_A == base_B:\n",
    "            print(\"Multiple\")\n",
    "            break\n",
    "        \n",
    "        \n",
    "        \n",
    "        "
   ]
  },
  {
   "cell_type": "code",
   "execution_count": 9,
   "id": "2e62744d",
   "metadata": {},
   "outputs": [
    {
     "ename": "SyntaxError",
     "evalue": "invalid syntax (2036093880.py, line 1)",
     "output_type": "error",
     "traceback": [
      "\u001b[1;36m  Cell \u001b[1;32mIn[9], line 1\u001b[1;36m\u001b[0m\n\u001b[1;33m    ep jh\u001b[0m\n\u001b[1;37m       ^\u001b[0m\n\u001b[1;31mSyntaxError\u001b[0m\u001b[1;31m:\u001b[0m invalid syntax\n"
     ]
    }
   ],
   "source": [
    "ep jh\n",
    "473\n",
    "e = 14\n",
    "p \n",
    "150 + 26\n",
    "\n",
    "432\n",
    "121*4 + \n",
    "\n",
    "15*32\n",
    "\n",
    "140 + 25\n",
    "190 + 17"
   ]
  },
  {
   "cell_type": "code",
   "execution_count": 32,
   "id": "2155429c",
   "metadata": {},
   "outputs": [
    {
     "name": "stdout",
     "output_type": "stream",
     "text": [
      "19\n",
      "17\n"
     ]
    }
   ],
   "source": [
    "print(ord('j')-87)\n",
    "print(ord('h')-87)"
   ]
  },
  {
   "cell_type": "code",
   "execution_count": null,
   "id": "af65e83f",
   "metadata": {},
   "outputs": [],
   "source": []
  }
 ],
 "metadata": {
  "kernelspec": {
   "display_name": "Python 3 (ipykernel)",
   "language": "python",
   "name": "python3"
  },
  "language_info": {
   "codemirror_mode": {
    "name": "ipython",
    "version": 3
   },
   "file_extension": ".py",
   "mimetype": "text/x-python",
   "name": "python",
   "nbconvert_exporter": "python",
   "pygments_lexer": "ipython3",
   "version": "3.9.18"
  }
 },
 "nbformat": 4,
 "nbformat_minor": 5
}
