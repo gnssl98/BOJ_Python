{
 "cells": [
  {
   "cell_type": "code",
   "execution_count": 18,
   "id": "9a414585",
   "metadata": {},
   "outputs": [
    {
     "name": "stdout",
     "output_type": "stream",
     "text": [
      "10\n",
      "0\n"
     ]
    }
   ],
   "source": [
    "n = int(input())\n",
    "\n",
    "x=[0]\n",
    "\n",
    "def rev(arr):\n",
    "    for i in range(len(arr)):\n",
    "        arr[i] = 1 - arr[i]\n",
    "    return arr\n",
    "\n",
    "\n",
    "for _ in range(n):\n",
    "    new = rev(x)\n",
    "    x.extend(new)\n",
    "\n",
    "print(x[n])"
   ]
  },
  {
   "cell_type": "code",
   "execution_count": 24,
   "id": "1b1de216",
   "metadata": {},
   "outputs": [
    {
     "name": "stdout",
     "output_type": "stream",
     "text": [
      "10\n",
      "0\n"
     ]
    }
   ],
   "source": [
    "n = int(input())\n",
    "\n",
    "x=[0]\n",
    "\n",
    "for _ in range(n-1):\n",
    "    for i in range(len(x)):\n",
    "        new = 1- x[i]\n",
    "        x.append(new)\n",
    "        \n",
    "print(x[n])"
   ]
  },
  {
   "cell_type": "code",
   "execution_count": 33,
   "id": "0da88ade",
   "metadata": {},
   "outputs": [
    {
     "name": "stdout",
     "output_type": "stream",
     "text": [
      "100000000\n",
      "1\n"
     ]
    }
   ],
   "source": [
    "n = int(input())\n",
    "x =[0]\n",
    "\n",
    "while 1:\n",
    "    if len(x) >=n:\n",
    "        print(x[n-1])\n",
    "        break\n",
    "    for i in range(len(x)):\n",
    "        new = 1-x[i]\n",
    "        x.append(new)"
   ]
  },
  {
   "cell_type": "code",
   "execution_count": 11,
   "id": "24591463",
   "metadata": {},
   "outputs": [
    {
     "name": "stdout",
     "output_type": "stream",
     "text": [
      "1\n",
      "0\n"
     ]
    }
   ],
   "source": [
    "n = int(input())\n",
    "x=[0]\n",
    "\n",
    "for k in range(n-1):\n",
    "    for i in range(len(x)):\n",
    "        new = 1- x[i]\n",
    "        x.append(new)\n",
    "        \n",
    "print(x[n-1])"
   ]
  },
  {
   "cell_type": "code",
   "execution_count": 15,
   "id": "87590757",
   "metadata": {},
   "outputs": [
    {
     "name": "stdout",
     "output_type": "stream",
     "text": [
      "1000000000000000000\n"
     ]
    }
   ],
   "source": [
    "n = int(10**18)\n",
    "print(n)"
   ]
  },
  {
   "cell_type": "code",
   "execution_count": 10,
   "id": "f83145db",
   "metadata": {},
   "outputs": [
    {
     "name": "stdout",
     "output_type": "stream",
     "text": [
      "0\n"
     ]
    },
    {
     "ename": "IndexError",
     "evalue": "list index out of range",
     "output_type": "error",
     "traceback": [
      "\u001b[1;31m---------------------------------------------------------------------------\u001b[0m",
      "\u001b[1;31mIndexError\u001b[0m                                Traceback (most recent call last)",
      "Cell \u001b[1;32mIn[10], line 7\u001b[0m\n\u001b[0;32m      5\u001b[0m         new \u001b[38;5;241m=\u001b[39m \u001b[38;5;241m1\u001b[39m\u001b[38;5;241m-\u001b[39m x[i]\n\u001b[0;32m      6\u001b[0m         x\u001b[38;5;241m.\u001b[39mappend(new)\n\u001b[1;32m----> 7\u001b[0m \u001b[38;5;28mprint\u001b[39m(\u001b[43mx\u001b[49m\u001b[43m[\u001b[49m\u001b[43mn\u001b[49m\u001b[43m]\u001b[49m)\n",
      "\u001b[1;31mIndexError\u001b[0m: list index out of range"
     ]
    }
   ],
   "source": [
    "x=[0]\n",
    "for n in range(5):\n",
    "    for k in range(n-1):\n",
    "        for i in range(len(x)):\n",
    "            new = 1- x[i]\n",
    "            x.append(new)\n",
    "    print(x[n])"
   ]
  },
  {
   "cell_type": "code",
   "execution_count": 30,
   "id": "797cf95f",
   "metadata": {},
   "outputs": [
    {
     "name": "stdout",
     "output_type": "stream",
     "text": [
      "4\n",
      "[0]\n",
      "[0]\n",
      "[0]\n",
      "[0]\n"
     ]
    }
   ],
   "source": [
    "n = int(input())\n",
    "x=[0]\n",
    "\n",
    "cnt = 0 \n",
    "while cnt < n:\n",
    "    \n",
    "    cnt = cnt+1\n",
    "    "
   ]
  },
  {
   "cell_type": "code",
   "execution_count": 4,
   "id": "c596c70c",
   "metadata": {},
   "outputs": [
    {
     "name": "stdout",
     "output_type": "stream",
     "text": [
      "[3, 6, 5, 2, 1]\n"
     ]
    }
   ],
   "source": [
    "k = [1,2,5,6,3]\n",
    "k.reverse()\n",
    "print(k)"
   ]
  },
  {
   "cell_type": "code",
   "execution_count": 5,
   "id": "1a85bd1f",
   "metadata": {},
   "outputs": [
    {
     "data": {
      "text/plain": [
       "[3, 6, 5, 2, 1]"
      ]
     },
     "execution_count": 5,
     "metadata": {},
     "output_type": "execute_result"
    }
   ],
   "source": [
    "def rev(arr):\n",
    "    for num in arr:\n",
    "        if num == 0:\n",
    "            num =1\n",
    "        else :\n",
    "            num =0\n",
    "    return arr\n",
    "\n",
    "rev(k)"
   ]
  },
  {
   "cell_type": "code",
   "execution_count": null,
   "id": "229d621e",
   "metadata": {},
   "outputs": [],
   "source": [
    "0\n",
    "01\n",
    "0110\n",
    "0110/1001\n",
    "\n",
    "01101001/10010110\n",
    "01101001/10010110/10010110/01101001\n",
    "\n",
    "01101001/10010110/10010110/01101001/10010110/01101001/01101001/10010110\n",
    "\n",
    "abba/ baab\n",
    "\n",
    "0110/1001\n",
    "\n",
    "\n",
    "\n",
    "2**10**17\n",
    "\n",
    "0110100110010110/1001011001101001/1001011001101001\n",
    "1\n",
    "0\n",
    "1"
   ]
  },
  {
   "cell_type": "code",
   "execution_count": null,
   "id": "ab797a22",
   "metadata": {},
   "outputs": [],
   "source": []
  }
 ],
 "metadata": {
  "kernelspec": {
   "display_name": "Python 3 (ipykernel)",
   "language": "python",
   "name": "python3"
  },
  "language_info": {
   "codemirror_mode": {
    "name": "ipython",
    "version": 3
   },
   "file_extension": ".py",
   "mimetype": "text/x-python",
   "name": "python",
   "nbconvert_exporter": "python",
   "pygments_lexer": "ipython3",
   "version": "3.9.18"
  }
 },
 "nbformat": 4,
 "nbformat_minor": 5
}
