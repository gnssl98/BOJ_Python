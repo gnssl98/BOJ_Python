{
 "cells": [
  {
   "cell_type": "code",
   "execution_count": 6,
   "id": "8e0702d6",
   "metadata": {},
   "outputs": [
    {
     "name": "stdout",
     "output_type": "stream",
     "text": [
      "5\n",
      "4 2 8 5 7\n",
      "4\n",
      "6\n"
     ]
    }
   ],
   "source": [
    "import math\n",
    "\n",
    "N = int(input())\n",
    "arr=list(map(int, input().split()))\n",
    "X = int(input())\n",
    "res =[]\n",
    "\n",
    "for i in range(N):\n",
    "    if math.gcd(arr[i],X) ==1:\n",
    "        res.append(arr[i])\n",
    "\n",
    "mean = sum(res) / len(res)\n",
    "print(f\"{mean:.6f}\")"
   ]
  }
 ],
 "metadata": {
  "kernelspec": {
   "display_name": "Python (<myvenv>)",
   "language": "python",
   "name": "myvenv"
  },
  "language_info": {
   "codemirror_mode": {
    "name": "ipython",
    "version": 3
   },
   "file_extension": ".py",
   "mimetype": "text/x-python",
   "name": "python",
   "nbconvert_exporter": "python",
   "pygments_lexer": "ipython3",
   "version": "3.9.18"
  }
 },
 "nbformat": 4,
 "nbformat_minor": 5
}
