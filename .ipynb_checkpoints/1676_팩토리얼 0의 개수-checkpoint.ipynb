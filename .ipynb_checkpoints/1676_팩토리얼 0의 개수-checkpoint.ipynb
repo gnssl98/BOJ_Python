{
 "cells": [
  {
   "cell_type": "code",
   "execution_count": 27,
   "id": "f0ea4c54",
   "metadata": {},
   "outputs": [
    {
     "name": "stdout",
     "output_type": "stream",
     "text": [
      "3\n",
      "0\n"
     ]
    }
   ],
   "source": [
    "N = int(input())\n",
    "fact = 1\n",
    "cnt=0\n",
    "for i in range(1,N+1):\n",
    "    fact = fact * i\n",
    "\n",
    "    \n",
    "for j in reversed(range(len(str(fact)))):\n",
    "    if str(fact)[j] == '0':\n",
    "        cnt +=1\n",
    "    else :\n",
    "        break\n",
    "        \n",
    "print(cnt)\n",
    "        \n"
   ]
  }
 ],
 "metadata": {
  "kernelspec": {
   "display_name": "Python 3 (ipykernel)",
   "language": "python",
   "name": "python3"
  },
  "language_info": {
   "codemirror_mode": {
    "name": "ipython",
    "version": 3
   },
   "file_extension": ".py",
   "mimetype": "text/x-python",
   "name": "python",
   "nbconvert_exporter": "python",
   "pygments_lexer": "ipython3",
   "version": "3.9.18"
  }
 },
 "nbformat": 4,
 "nbformat_minor": 5
}
