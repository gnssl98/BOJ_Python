{
 "cells": [
  {
   "cell_type": "code",
   "execution_count": 36,
   "id": "747d28a8",
   "metadata": {},
   "outputs": [
    {
     "name": "stdout",
     "output_type": "stream",
     "text": [
      "4\n",
      "2 1 3 1\n",
      "2 0 3 1 "
     ]
    }
   ],
   "source": [
    "N = int(input())\n",
    "\n",
    "a = list(map(int, input().split()))\n",
    "b=sorted(a)\n",
    "\n",
    "p = [0] *N\n",
    "tmp = 0\n",
    "cnt = 0\n",
    "\n",
    "for i in range(N):\n",
    "    for j in range(N):\n",
    "        if b[j] == a[i]:\n",
    "            p[cnt] = j\n",
    "            b[j]=-1\n",
    "            cnt+=1\n",
    "            tmp+=1\n",
    "            break\n",
    "\n",
    "for k in range(N):\n",
    "    print(str(p[k]),end=' ')"
   ]
  }
 ],
 "metadata": {
  "kernelspec": {
   "display_name": "Python 3 (ipykernel)",
   "language": "python",
   "name": "python3"
  },
  "language_info": {
   "codemirror_mode": {
    "name": "ipython",
    "version": 3
   },
   "file_extension": ".py",
   "mimetype": "text/x-python",
   "name": "python",
   "nbconvert_exporter": "python",
   "pygments_lexer": "ipython3",
   "version": "3.9.18"
  }
 },
 "nbformat": 4,
 "nbformat_minor": 5
}
