{
 "cells": [
  {
   "cell_type": "code",
   "execution_count": null,
   "id": "280e2b10",
   "metadata": {},
   "outputs": [],
   "source": [
    "n = int(input())\n",
    "\n",
    "team1 = [0, 0]\n",
    "team2 = [0, 0]\n",
    "bef =[0, 0]\n",
    "\n",
    "for _ in range(n):\n",
    "    win, time = input().split()\n",
    "    if win == '1': team1[0] += 1\n",
    "    else: team2[0] += 1\n",
    "    minute, second = map(int, time.split(\":\"))\n",
    "    time = minute*60 + second\n",
    "    if team1[0] == team2[0]:\n",
    "        if bef[0] == 1:\n",
    "            team1[1] += time - bef[1]\n",
    "        else:\n",
    "            team2[1] += time - bef[1]\n",
    "        bef[0] = 0\n",
    "    elif team1[0] > team2[0]:\n",
    "        if bef[0] == 0:\n",
    "            bef[1] = time\n",
    "            bef[0] = 1\n",
    "    else: \n",
    "        if bef[0] == 0: \n",
    "            bef[1] = time\n",
    "            bef[0] = 2\n",
    "\n",
    "if bef[0] == 1:\n",
    "    team1[1] += 48*60 - bef[1]\n",
    "if bef[0] == 2:\n",
    "    team2[1] += 48*60 - bef[1]\n",
    "\n",
    "print(\"%02d:%02d\" %(team1[1]//60, team1[1]%60))\n",
    "print(\"%02d:%02d\" %(team2[1]//60, team2[1]%60))"
   ]
  },
  {
   "cell_type": "code",
   "execution_count": null,
   "id": "205e0987",
   "metadata": {},
   "outputs": [],
   "source": [
    "역전당한시간 -  처음 골넣은 시간\n"
   ]
  },
  {
   "cell_type": "code",
   "execution_count": 27,
   "id": "3fb5a57e",
   "metadata": {},
   "outputs": [
    {
     "ename": "AttributeError",
     "evalue": "module 'datetime' has no attribute 'strptime'",
     "output_type": "error",
     "traceback": [
      "\u001b[1;31m---------------------------------------------------------------------------\u001b[0m",
      "\u001b[1;31mAttributeError\u001b[0m                            Traceback (most recent call last)",
      "Cell \u001b[1;32mIn[27], line 5\u001b[0m\n\u001b[0;32m      2\u001b[0m a \u001b[38;5;241m=\u001b[39m \u001b[38;5;124m'\u001b[39m\u001b[38;5;124m01:10\u001b[39m\u001b[38;5;124m'\u001b[39m\n\u001b[0;32m      3\u001b[0m b\u001b[38;5;241m=\u001b[39m\u001b[38;5;124m'\u001b[39m\u001b[38;5;124m21:10\u001b[39m\u001b[38;5;124m'\u001b[39m\n\u001b[1;32m----> 5\u001b[0m k \u001b[38;5;241m=\u001b[39m \u001b[43mdatetime\u001b[49m\u001b[38;5;241;43m.\u001b[39;49m\u001b[43mstrptime\u001b[49m(a, \u001b[38;5;124m\"\u001b[39m\u001b[38;5;124m%\u001b[39m\u001b[38;5;124mm\u001b[39m\u001b[38;5;132;01m%s\u001b[39;00m\u001b[38;5;124m\"\u001b[39m)\n",
      "\u001b[1;31mAttributeError\u001b[0m: module 'datetime' has no attribute 'strptime'"
     ]
    }
   ],
   "source": [
    "import datetime\n",
    "a = '01:10'\n",
    "b='21:10'\n",
    "\n",
    "k = datetime.strptime(a, \"%m%s\")\n",
    "print(k)"
   ]
  },
  {
   "cell_type": "code",
   "execution_count": null,
   "id": "ef6f7fd1",
   "metadata": {},
   "outputs": [],
   "source": []
  }
 ],
 "metadata": {
  "kernelspec": {
   "display_name": "Python 3 (ipykernel)",
   "language": "python",
   "name": "python3"
  },
  "language_info": {
   "codemirror_mode": {
    "name": "ipython",
    "version": 3
   },
   "file_extension": ".py",
   "mimetype": "text/x-python",
   "name": "python",
   "nbconvert_exporter": "python",
   "pygments_lexer": "ipython3",
   "version": "3.9.18"
  }
 },
 "nbformat": 4,
 "nbformat_minor": 5
}
