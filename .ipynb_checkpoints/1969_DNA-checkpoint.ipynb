{
 "cells": [
  {
   "cell_type": "code",
   "execution_count": 12,
   "id": "079dc205",
   "metadata": {},
   "outputs": [
    {
     "name": "stdout",
     "output_type": "stream",
     "text": [
      "2 5\n",
      "AAAAA\n",
      "AAAAA\n",
      "AAAAA\n",
      "0\n"
     ]
    }
   ],
   "source": [
    "n, m = map(int, input().split())\n",
    "dna_arr =[]\n",
    "res =''\n",
    "cnt =0\n",
    "for i in range(n):\n",
    "    dna_arr.append(input())\n",
    "\n",
    "for j in range(m):\n",
    "    tmp_arr = []\n",
    "    for k in range(n):\n",
    "        tmp_arr.append(dna_arr[k][j])\n",
    "    max_dna = max(sorted(set(tmp_arr)), key=tmp_arr.count)\n",
    "    res = res+max_dna\n",
    "    for l in range(n):\n",
    "        if max_dna != dna_arr[l][j]:\n",
    "            cnt +=1\n",
    "            \n",
    "print(res)\n",
    "print(cnt)"
   ]
  },
  {
   "cell_type": "code",
   "execution_count": null,
   "id": "e9a7b40d",
   "metadata": {},
   "outputs": [],
   "source": []
  }
 ],
 "metadata": {
  "kernelspec": {
   "display_name": "Python 3 (ipykernel)",
   "language": "python",
   "name": "python3"
  },
  "language_info": {
   "codemirror_mode": {
    "name": "ipython",
    "version": 3
   },
   "file_extension": ".py",
   "mimetype": "text/x-python",
   "name": "python",
   "nbconvert_exporter": "python",
   "pygments_lexer": "ipython3",
   "version": "3.9.18"
  }
 },
 "nbformat": 4,
 "nbformat_minor": 5
}
