{
 "cells": [
  {
   "cell_type": "code",
   "execution_count": 53,
   "id": "76109986",
   "metadata": {},
   "outputs": [
    {
     "name": "stdout",
     "output_type": "stream",
     "text": [
      "5 3\n",
      "1 2\n",
      "3 4\n",
      "1 3\n",
      "3\n"
     ]
    }
   ],
   "source": [
    "from itertools import combinations\n",
    "\n",
    "n, m = map(int, input().split(' '))\n",
    "\n",
    "forbidden_pairs = set()\n",
    "for _ in range(m):\n",
    "    u, v = map(int, input().split())\n",
    "    forbidden_pairs.add((u, v))\n",
    "    forbidden_pairs.add((v, u))\n",
    "\n",
    "\n",
    "count = 0\n",
    "for c in combinations(range(1, n+1), 3):\n",
    "    if (c[0], c[1]) in forbidden_pairs or (c[0], c[2]) in forbidden_pairs or (c[1], c[2]) in forbidden_pairs:\n",
    "        continue\n",
    "    count += 1\n",
    "print(count)"
   ]
  }
 ],
 "metadata": {
  "kernelspec": {
   "display_name": "Python 3 (ipykernel)",
   "language": "python",
   "name": "python3"
  },
  "language_info": {
   "codemirror_mode": {
    "name": "ipython",
    "version": 3
   },
   "file_extension": ".py",
   "mimetype": "text/x-python",
   "name": "python",
   "nbconvert_exporter": "python",
   "pygments_lexer": "ipython3",
   "version": "3.9.18"
  }
 },
 "nbformat": 4,
 "nbformat_minor": 5
}
