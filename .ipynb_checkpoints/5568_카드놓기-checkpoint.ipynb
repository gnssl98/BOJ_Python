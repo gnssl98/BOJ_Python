{
 "cells": [
  {
   "cell_type": "code",
   "execution_count": 18,
   "id": "2f1d5e14",
   "metadata": {},
   "outputs": [
    {
     "name": "stdout",
     "output_type": "stream",
     "text": [
      "4\n",
      "2\n",
      "1\n",
      "2\n",
      "12\n",
      "1\n",
      "7\n"
     ]
    }
   ],
   "source": [
    "from itertools import combinations, permutations\n",
    "\n",
    "n = int(input())\n",
    "k = int(input())\n",
    "int_arr = []\n",
    "cnt = 0\n",
    "\n",
    "for i in range(n):\n",
    "    int_arr.append(input())\n",
    "\n",
    "perm = list(permutations(int_arr, k))\n",
    " \n",
    "\n",
    "res_arr = []\n",
    "for j in range(len(perm)):\n",
    "    res =\"\"\n",
    "    for l in range(k):\n",
    "        res =res + perm[j][l]\n",
    "    res_arr.append(res)\n",
    "set_arr = set(res_arr)\n",
    "\n",
    "print(len(set_arr))"
   ]
  },
  {
   "cell_type": "code",
   "execution_count": null,
   "id": "1a4ce07a",
   "metadata": {},
   "outputs": [],
   "source": []
  }
 ],
 "metadata": {
  "kernelspec": {
   "display_name": "Python 3 (ipykernel)",
   "language": "python",
   "name": "python3"
  },
  "language_info": {
   "codemirror_mode": {
    "name": "ipython",
    "version": 3
   },
   "file_extension": ".py",
   "mimetype": "text/x-python",
   "name": "python",
   "nbconvert_exporter": "python",
   "pygments_lexer": "ipython3",
   "version": "3.9.18"
  }
 },
 "nbformat": 4,
 "nbformat_minor": 5
}
